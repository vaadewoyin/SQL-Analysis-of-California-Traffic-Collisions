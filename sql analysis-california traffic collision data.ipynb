{
 "cells": [
  {
   "cell_type": "markdown",
   "metadata": {},
   "source": [
    "## **Project details**:\n",
    "\n",
    "**The goal of this project is to perform exploratory data analysis using sql in jupyter notebook with the aid of jupysql(an improvement over ipythonsql) and duckdb (which is an in-process SQL OLAP Database Management System). The database used is the California Traffic Collision Data from SWITRS obtained from kaggle.This data comes from the California Highway Patrol and covers collisions from January 1st, 2001 until mid 2021**\n",
    "\n"
   ]
  },
  {
   "cell_type": "markdown",
   "metadata": {},
   "source": [
    "#### Necessary imports and configuration "
   ]
  },
  {
   "cell_type": "code",
   "execution_count": 1,
   "metadata": {
    "execution": {
     "iopub.execute_input": "2023-03-05T20:59:18.288479Z",
     "iopub.status.busy": "2023-03-05T20:59:18.287882Z",
     "iopub.status.idle": "2023-03-05T20:59:19.537292Z",
     "shell.execute_reply": "2023-03-05T20:59:19.536191Z",
     "shell.execute_reply.started": "2023-03-05T20:59:18.288435Z"
    }
   },
   "outputs": [],
   "source": [
    "#Necessary imports\n",
    "import duckdb\n",
    "import pandas as pd\n",
    "import matplotlib.pyplot as plt\n",
    "import seaborn as sns\n",
    "plt.style.use('seaborn-darkgrid')"
   ]
  },
  {
   "cell_type": "code",
   "execution_count": 2,
   "metadata": {
    "execution": {
     "iopub.execute_input": "2023-03-05T20:59:19.542625Z",
     "iopub.status.busy": "2023-03-05T20:59:19.542048Z",
     "iopub.status.idle": "2023-03-05T20:59:19.561857Z",
     "shell.execute_reply": "2023-03-05T20:59:19.560535Z",
     "shell.execute_reply.started": "2023-03-05T20:59:19.542588Z"
    }
   },
   "outputs": [],
   "source": [
    "# Import jupysql Jupyter extension to create SQL cells\n",
    "%load_ext sql\n",
    "#configuration for jupysql to not return data as a Pandas dataframe \n",
    "#and to have less verbose output\n",
    "%config SqlMagic.autopandas = False\n",
    "%config SqlMagic.feedback = False\n",
    "%config SqlMagic.displaycon = False\n",
    "%config SqlMagic.displaylimit=False"
   ]
  },
  {
   "cell_type": "code",
   "execution_count": 3,
   "metadata": {
    "execution": {
     "iopub.execute_input": "2023-03-05T20:59:19.564319Z",
     "iopub.status.busy": "2023-03-05T20:59:19.563254Z",
     "iopub.status.idle": "2023-03-05T20:59:21.098309Z",
     "shell.execute_reply": "2023-03-05T20:59:21.097313Z",
     "shell.execute_reply.started": "2023-03-05T20:59:19.564277Z"
    }
   },
   "outputs": [],
   "source": [
    "#connecting to duckdb\n",
    "%sql duckdb:///"
   ]
  },
  {
   "cell_type": "markdown",
   "metadata": {},
   "source": [
    "#### Read data"
   ]
  },
  {
   "cell_type": "code",
   "execution_count": 4,
   "metadata": {
    "execution": {
     "iopub.execute_input": "2023-03-05T20:59:21.104695Z",
     "iopub.status.busy": "2023-03-05T20:59:21.103637Z",
     "iopub.status.idle": "2023-03-05T20:59:27.675544Z",
     "shell.execute_reply": "2023-03-05T20:59:27.674076Z",
     "shell.execute_reply.started": "2023-03-05T20:59:21.104639Z"
    }
   },
   "outputs": [
    {
     "data": {
      "text/html": [
       "<table>\n",
       "    <tr>\n",
       "        <th>Success</th>\n",
       "    </tr>\n",
       "</table>"
      ],
      "text/plain": [
       "[]"
      ]
     },
     "execution_count": 4,
     "metadata": {},
     "output_type": "execute_result"
    }
   ],
   "source": [
    "#use sqlite_scanner to read data from a SQLite database file\n",
    "%sql INSTALL 'sqlite_scanner';\n",
    "%sql LOAD 'sqlite_scanner';\n",
    "%sql CALL sqlite_attach('switrs.sqlite');"
   ]
  },
  {
   "cell_type": "markdown",
   "metadata": {},
   "source": [
    "#### Check available tables"
   ]
  },
  {
   "cell_type": "code",
   "execution_count": 5,
   "metadata": {
    "execution": {
     "iopub.execute_input": "2023-03-05T20:59:27.678694Z",
     "iopub.status.busy": "2023-03-05T20:59:27.678108Z",
     "iopub.status.idle": "2023-03-05T20:59:28.666286Z",
     "shell.execute_reply": "2023-03-05T20:59:28.665013Z",
     "shell.execute_reply.started": "2023-03-05T20:59:27.678650Z"
    }
   },
   "outputs": [
    {
     "data": {
      "text/html": [
       "<table>\n",
       "    <tr>\n",
       "        <th>name</th>\n",
       "    </tr>\n",
       "    <tr>\n",
       "        <td>case_ids</td>\n",
       "    </tr>\n",
       "    <tr>\n",
       "        <td>collisions</td>\n",
       "    </tr>\n",
       "    <tr>\n",
       "        <td>parties</td>\n",
       "    </tr>\n",
       "    <tr>\n",
       "        <td>victims</td>\n",
       "    </tr>\n",
       "</table>"
      ],
      "text/plain": [
       "[('case_ids',), ('collisions',), ('parties',), ('victims',)]"
      ]
     },
     "execution_count": 5,
     "metadata": {},
     "output_type": "execute_result"
    }
   ],
   "source": [
    "#check tables \n",
    "%sql SHOW TABLES;"
   ]
  },
  {
   "cell_type": "markdown",
   "metadata": {},
   "source": [
    "***There are three main tables:***\n",
    "\n",
    "***collisions: Contains information about the collision, where it happened, what vehicles were involved etc. ,each row represents a distinct collision,\n",
    " parties contains information about the groups of people directly involved in the collision while\n",
    " victims contains information about the injuries of specific people involved in the collision.\n",
    "There is also a table called case_ids which was used to build the other tables.***"
   ]
  },
  {
   "cell_type": "markdown",
   "metadata": {},
   "source": [
    "#### Check each table columns and details to help analysis"
   ]
  },
  {
   "cell_type": "code",
   "execution_count": 6,
   "metadata": {
    "execution": {
     "iopub.execute_input": "2023-03-05T20:59:28.668251Z",
     "iopub.status.busy": "2023-03-05T20:59:28.667792Z",
     "iopub.status.idle": "2023-03-05T20:59:29.639498Z",
     "shell.execute_reply": "2023-03-05T20:59:29.638216Z",
     "shell.execute_reply.started": "2023-03-05T20:59:28.668204Z"
    },
    "scrolled": true
   },
   "outputs": [
    {
     "data": {
      "text/html": [
       "<table>\n",
       "    <tr>\n",
       "        <th>column_name</th>\n",
       "        <th>column_type</th>\n",
       "        <th>null</th>\n",
       "        <th>key</th>\n",
       "        <th>default</th>\n",
       "        <th>extra</th>\n",
       "    </tr>\n",
       "    <tr>\n",
       "        <td>case_id</td>\n",
       "        <td>VARCHAR</td>\n",
       "        <td>YES</td>\n",
       "        <td>None</td>\n",
       "        <td>None</td>\n",
       "        <td>None</td>\n",
       "    </tr>\n",
       "    <tr>\n",
       "        <td>jurisdiction</td>\n",
       "        <td>BIGINT</td>\n",
       "        <td>YES</td>\n",
       "        <td>None</td>\n",
       "        <td>None</td>\n",
       "        <td>None</td>\n",
       "    </tr>\n",
       "    <tr>\n",
       "        <td>officer_id</td>\n",
       "        <td>VARCHAR</td>\n",
       "        <td>YES</td>\n",
       "        <td>None</td>\n",
       "        <td>None</td>\n",
       "        <td>None</td>\n",
       "    </tr>\n",
       "    <tr>\n",
       "        <td>reporting_district</td>\n",
       "        <td>VARCHAR</td>\n",
       "        <td>YES</td>\n",
       "        <td>None</td>\n",
       "        <td>None</td>\n",
       "        <td>None</td>\n",
       "    </tr>\n",
       "    <tr>\n",
       "        <td>chp_shift</td>\n",
       "        <td>VARCHAR</td>\n",
       "        <td>YES</td>\n",
       "        <td>None</td>\n",
       "        <td>None</td>\n",
       "        <td>None</td>\n",
       "    </tr>\n",
       "    <tr>\n",
       "        <td>population</td>\n",
       "        <td>VARCHAR</td>\n",
       "        <td>YES</td>\n",
       "        <td>None</td>\n",
       "        <td>None</td>\n",
       "        <td>None</td>\n",
       "    </tr>\n",
       "    <tr>\n",
       "        <td>county_city_location</td>\n",
       "        <td>VARCHAR</td>\n",
       "        <td>YES</td>\n",
       "        <td>None</td>\n",
       "        <td>None</td>\n",
       "        <td>None</td>\n",
       "    </tr>\n",
       "    <tr>\n",
       "        <td>county_location</td>\n",
       "        <td>VARCHAR</td>\n",
       "        <td>YES</td>\n",
       "        <td>None</td>\n",
       "        <td>None</td>\n",
       "        <td>None</td>\n",
       "    </tr>\n",
       "    <tr>\n",
       "        <td>special_condition</td>\n",
       "        <td>VARCHAR</td>\n",
       "        <td>YES</td>\n",
       "        <td>None</td>\n",
       "        <td>None</td>\n",
       "        <td>None</td>\n",
       "    </tr>\n",
       "    <tr>\n",
       "        <td>beat_type</td>\n",
       "        <td>VARCHAR</td>\n",
       "        <td>YES</td>\n",
       "        <td>None</td>\n",
       "        <td>None</td>\n",
       "        <td>None</td>\n",
       "    </tr>\n",
       "    <tr>\n",
       "        <td>chp_beat_type</td>\n",
       "        <td>VARCHAR</td>\n",
       "        <td>YES</td>\n",
       "        <td>None</td>\n",
       "        <td>None</td>\n",
       "        <td>None</td>\n",
       "    </tr>\n",
       "    <tr>\n",
       "        <td>city_division_lapd</td>\n",
       "        <td>VARCHAR</td>\n",
       "        <td>YES</td>\n",
       "        <td>None</td>\n",
       "        <td>None</td>\n",
       "        <td>None</td>\n",
       "    </tr>\n",
       "    <tr>\n",
       "        <td>chp_beat_class</td>\n",
       "        <td>VARCHAR</td>\n",
       "        <td>YES</td>\n",
       "        <td>None</td>\n",
       "        <td>None</td>\n",
       "        <td>None</td>\n",
       "    </tr>\n",
       "    <tr>\n",
       "        <td>beat_number</td>\n",
       "        <td>VARCHAR</td>\n",
       "        <td>YES</td>\n",
       "        <td>None</td>\n",
       "        <td>None</td>\n",
       "        <td>None</td>\n",
       "    </tr>\n",
       "    <tr>\n",
       "        <td>primary_road</td>\n",
       "        <td>VARCHAR</td>\n",
       "        <td>YES</td>\n",
       "        <td>None</td>\n",
       "        <td>None</td>\n",
       "        <td>None</td>\n",
       "    </tr>\n",
       "    <tr>\n",
       "        <td>secondary_road</td>\n",
       "        <td>VARCHAR</td>\n",
       "        <td>YES</td>\n",
       "        <td>None</td>\n",
       "        <td>None</td>\n",
       "        <td>None</td>\n",
       "    </tr>\n",
       "    <tr>\n",
       "        <td>distance</td>\n",
       "        <td>DOUBLE</td>\n",
       "        <td>YES</td>\n",
       "        <td>None</td>\n",
       "        <td>None</td>\n",
       "        <td>None</td>\n",
       "    </tr>\n",
       "    <tr>\n",
       "        <td>direction</td>\n",
       "        <td>VARCHAR</td>\n",
       "        <td>YES</td>\n",
       "        <td>None</td>\n",
       "        <td>None</td>\n",
       "        <td>None</td>\n",
       "    </tr>\n",
       "    <tr>\n",
       "        <td>intersection</td>\n",
       "        <td>BIGINT</td>\n",
       "        <td>YES</td>\n",
       "        <td>None</td>\n",
       "        <td>None</td>\n",
       "        <td>None</td>\n",
       "    </tr>\n",
       "    <tr>\n",
       "        <td>weather_1</td>\n",
       "        <td>VARCHAR</td>\n",
       "        <td>YES</td>\n",
       "        <td>None</td>\n",
       "        <td>None</td>\n",
       "        <td>None</td>\n",
       "    </tr>\n",
       "    <tr>\n",
       "        <td>weather_2</td>\n",
       "        <td>VARCHAR</td>\n",
       "        <td>YES</td>\n",
       "        <td>None</td>\n",
       "        <td>None</td>\n",
       "        <td>None</td>\n",
       "    </tr>\n",
       "    <tr>\n",
       "        <td>state_highway_indicator</td>\n",
       "        <td>BIGINT</td>\n",
       "        <td>YES</td>\n",
       "        <td>None</td>\n",
       "        <td>None</td>\n",
       "        <td>None</td>\n",
       "    </tr>\n",
       "    <tr>\n",
       "        <td>caltrans_county</td>\n",
       "        <td>VARCHAR</td>\n",
       "        <td>YES</td>\n",
       "        <td>None</td>\n",
       "        <td>None</td>\n",
       "        <td>None</td>\n",
       "    </tr>\n",
       "    <tr>\n",
       "        <td>caltrans_district</td>\n",
       "        <td>BIGINT</td>\n",
       "        <td>YES</td>\n",
       "        <td>None</td>\n",
       "        <td>None</td>\n",
       "        <td>None</td>\n",
       "    </tr>\n",
       "    <tr>\n",
       "        <td>state_route</td>\n",
       "        <td>BIGINT</td>\n",
       "        <td>YES</td>\n",
       "        <td>None</td>\n",
       "        <td>None</td>\n",
       "        <td>None</td>\n",
       "    </tr>\n",
       "    <tr>\n",
       "        <td>route_suffix</td>\n",
       "        <td>VARCHAR</td>\n",
       "        <td>YES</td>\n",
       "        <td>None</td>\n",
       "        <td>None</td>\n",
       "        <td>None</td>\n",
       "    </tr>\n",
       "    <tr>\n",
       "        <td>postmile_prefix</td>\n",
       "        <td>VARCHAR</td>\n",
       "        <td>YES</td>\n",
       "        <td>None</td>\n",
       "        <td>None</td>\n",
       "        <td>None</td>\n",
       "    </tr>\n",
       "    <tr>\n",
       "        <td>postmile</td>\n",
       "        <td>DOUBLE</td>\n",
       "        <td>YES</td>\n",
       "        <td>None</td>\n",
       "        <td>None</td>\n",
       "        <td>None</td>\n",
       "    </tr>\n",
       "    <tr>\n",
       "        <td>location_type</td>\n",
       "        <td>VARCHAR</td>\n",
       "        <td>YES</td>\n",
       "        <td>None</td>\n",
       "        <td>None</td>\n",
       "        <td>None</td>\n",
       "    </tr>\n",
       "    <tr>\n",
       "        <td>ramp_intersection</td>\n",
       "        <td>VARCHAR</td>\n",
       "        <td>YES</td>\n",
       "        <td>None</td>\n",
       "        <td>None</td>\n",
       "        <td>None</td>\n",
       "    </tr>\n",
       "    <tr>\n",
       "        <td>side_of_highway</td>\n",
       "        <td>VARCHAR</td>\n",
       "        <td>YES</td>\n",
       "        <td>None</td>\n",
       "        <td>None</td>\n",
       "        <td>None</td>\n",
       "    </tr>\n",
       "    <tr>\n",
       "        <td>tow_away</td>\n",
       "        <td>BIGINT</td>\n",
       "        <td>YES</td>\n",
       "        <td>None</td>\n",
       "        <td>None</td>\n",
       "        <td>None</td>\n",
       "    </tr>\n",
       "    <tr>\n",
       "        <td>collision_severity</td>\n",
       "        <td>VARCHAR</td>\n",
       "        <td>YES</td>\n",
       "        <td>None</td>\n",
       "        <td>None</td>\n",
       "        <td>None</td>\n",
       "    </tr>\n",
       "    <tr>\n",
       "        <td>killed_victims</td>\n",
       "        <td>BIGINT</td>\n",
       "        <td>YES</td>\n",
       "        <td>None</td>\n",
       "        <td>None</td>\n",
       "        <td>None</td>\n",
       "    </tr>\n",
       "    <tr>\n",
       "        <td>injured_victims</td>\n",
       "        <td>BIGINT</td>\n",
       "        <td>YES</td>\n",
       "        <td>None</td>\n",
       "        <td>None</td>\n",
       "        <td>None</td>\n",
       "    </tr>\n",
       "    <tr>\n",
       "        <td>party_count</td>\n",
       "        <td>BIGINT</td>\n",
       "        <td>YES</td>\n",
       "        <td>None</td>\n",
       "        <td>None</td>\n",
       "        <td>None</td>\n",
       "    </tr>\n",
       "    <tr>\n",
       "        <td>primary_collision_factor</td>\n",
       "        <td>VARCHAR</td>\n",
       "        <td>YES</td>\n",
       "        <td>None</td>\n",
       "        <td>None</td>\n",
       "        <td>None</td>\n",
       "    </tr>\n",
       "    <tr>\n",
       "        <td>pcf_violation_code</td>\n",
       "        <td>VARCHAR</td>\n",
       "        <td>YES</td>\n",
       "        <td>None</td>\n",
       "        <td>None</td>\n",
       "        <td>None</td>\n",
       "    </tr>\n",
       "    <tr>\n",
       "        <td>pcf_violation_category</td>\n",
       "        <td>VARCHAR</td>\n",
       "        <td>YES</td>\n",
       "        <td>None</td>\n",
       "        <td>None</td>\n",
       "        <td>None</td>\n",
       "    </tr>\n",
       "    <tr>\n",
       "        <td>pcf_violation</td>\n",
       "        <td>BIGINT</td>\n",
       "        <td>YES</td>\n",
       "        <td>None</td>\n",
       "        <td>None</td>\n",
       "        <td>None</td>\n",
       "    </tr>\n",
       "    <tr>\n",
       "        <td>pcf_violation_subsection</td>\n",
       "        <td>VARCHAR</td>\n",
       "        <td>YES</td>\n",
       "        <td>None</td>\n",
       "        <td>None</td>\n",
       "        <td>None</td>\n",
       "    </tr>\n",
       "    <tr>\n",
       "        <td>hit_and_run</td>\n",
       "        <td>VARCHAR</td>\n",
       "        <td>YES</td>\n",
       "        <td>None</td>\n",
       "        <td>None</td>\n",
       "        <td>None</td>\n",
       "    </tr>\n",
       "    <tr>\n",
       "        <td>type_of_collision</td>\n",
       "        <td>VARCHAR</td>\n",
       "        <td>YES</td>\n",
       "        <td>None</td>\n",
       "        <td>None</td>\n",
       "        <td>None</td>\n",
       "    </tr>\n",
       "    <tr>\n",
       "        <td>motor_vehicle_involved_with</td>\n",
       "        <td>VARCHAR</td>\n",
       "        <td>YES</td>\n",
       "        <td>None</td>\n",
       "        <td>None</td>\n",
       "        <td>None</td>\n",
       "    </tr>\n",
       "    <tr>\n",
       "        <td>pedestrian_action</td>\n",
       "        <td>VARCHAR</td>\n",
       "        <td>YES</td>\n",
       "        <td>None</td>\n",
       "        <td>None</td>\n",
       "        <td>None</td>\n",
       "    </tr>\n",
       "    <tr>\n",
       "        <td>road_surface</td>\n",
       "        <td>VARCHAR</td>\n",
       "        <td>YES</td>\n",
       "        <td>None</td>\n",
       "        <td>None</td>\n",
       "        <td>None</td>\n",
       "    </tr>\n",
       "    <tr>\n",
       "        <td>road_condition_1</td>\n",
       "        <td>VARCHAR</td>\n",
       "        <td>YES</td>\n",
       "        <td>None</td>\n",
       "        <td>None</td>\n",
       "        <td>None</td>\n",
       "    </tr>\n",
       "    <tr>\n",
       "        <td>road_condition_2</td>\n",
       "        <td>VARCHAR</td>\n",
       "        <td>YES</td>\n",
       "        <td>None</td>\n",
       "        <td>None</td>\n",
       "        <td>None</td>\n",
       "    </tr>\n",
       "    <tr>\n",
       "        <td>lighting</td>\n",
       "        <td>VARCHAR</td>\n",
       "        <td>YES</td>\n",
       "        <td>None</td>\n",
       "        <td>None</td>\n",
       "        <td>None</td>\n",
       "    </tr>\n",
       "    <tr>\n",
       "        <td>control_device</td>\n",
       "        <td>VARCHAR</td>\n",
       "        <td>YES</td>\n",
       "        <td>None</td>\n",
       "        <td>None</td>\n",
       "        <td>None</td>\n",
       "    </tr>\n",
       "    <tr>\n",
       "        <td>chp_road_type</td>\n",
       "        <td>VARCHAR</td>\n",
       "        <td>YES</td>\n",
       "        <td>None</td>\n",
       "        <td>None</td>\n",
       "        <td>None</td>\n",
       "    </tr>\n",
       "    <tr>\n",
       "        <td>pedestrian_collision</td>\n",
       "        <td>BIGINT</td>\n",
       "        <td>YES</td>\n",
       "        <td>None</td>\n",
       "        <td>None</td>\n",
       "        <td>None</td>\n",
       "    </tr>\n",
       "    <tr>\n",
       "        <td>bicycle_collision</td>\n",
       "        <td>BIGINT</td>\n",
       "        <td>YES</td>\n",
       "        <td>None</td>\n",
       "        <td>None</td>\n",
       "        <td>None</td>\n",
       "    </tr>\n",
       "    <tr>\n",
       "        <td>motorcycle_collision</td>\n",
       "        <td>BIGINT</td>\n",
       "        <td>YES</td>\n",
       "        <td>None</td>\n",
       "        <td>None</td>\n",
       "        <td>None</td>\n",
       "    </tr>\n",
       "    <tr>\n",
       "        <td>truck_collision</td>\n",
       "        <td>BIGINT</td>\n",
       "        <td>YES</td>\n",
       "        <td>None</td>\n",
       "        <td>None</td>\n",
       "        <td>None</td>\n",
       "    </tr>\n",
       "    <tr>\n",
       "        <td>not_private_property</td>\n",
       "        <td>BIGINT</td>\n",
       "        <td>YES</td>\n",
       "        <td>None</td>\n",
       "        <td>None</td>\n",
       "        <td>None</td>\n",
       "    </tr>\n",
       "    <tr>\n",
       "        <td>alcohol_involved</td>\n",
       "        <td>BIGINT</td>\n",
       "        <td>YES</td>\n",
       "        <td>None</td>\n",
       "        <td>None</td>\n",
       "        <td>None</td>\n",
       "    </tr>\n",
       "    <tr>\n",
       "        <td>statewide_vehicle_type_at_fault</td>\n",
       "        <td>VARCHAR</td>\n",
       "        <td>YES</td>\n",
       "        <td>None</td>\n",
       "        <td>None</td>\n",
       "        <td>None</td>\n",
       "    </tr>\n",
       "    <tr>\n",
       "        <td>chp_vehicle_type_at_fault</td>\n",
       "        <td>VARCHAR</td>\n",
       "        <td>YES</td>\n",
       "        <td>None</td>\n",
       "        <td>None</td>\n",
       "        <td>None</td>\n",
       "    </tr>\n",
       "    <tr>\n",
       "        <td>severe_injury_count</td>\n",
       "        <td>BIGINT</td>\n",
       "        <td>YES</td>\n",
       "        <td>None</td>\n",
       "        <td>None</td>\n",
       "        <td>None</td>\n",
       "    </tr>\n",
       "    <tr>\n",
       "        <td>other_visible_injury_count</td>\n",
       "        <td>BIGINT</td>\n",
       "        <td>YES</td>\n",
       "        <td>None</td>\n",
       "        <td>None</td>\n",
       "        <td>None</td>\n",
       "    </tr>\n",
       "    <tr>\n",
       "        <td>complaint_of_pain_injury_count</td>\n",
       "        <td>BIGINT</td>\n",
       "        <td>YES</td>\n",
       "        <td>None</td>\n",
       "        <td>None</td>\n",
       "        <td>None</td>\n",
       "    </tr>\n",
       "    <tr>\n",
       "        <td>pedestrian_killed_count</td>\n",
       "        <td>BIGINT</td>\n",
       "        <td>YES</td>\n",
       "        <td>None</td>\n",
       "        <td>None</td>\n",
       "        <td>None</td>\n",
       "    </tr>\n",
       "    <tr>\n",
       "        <td>pedestrian_injured_count</td>\n",
       "        <td>BIGINT</td>\n",
       "        <td>YES</td>\n",
       "        <td>None</td>\n",
       "        <td>None</td>\n",
       "        <td>None</td>\n",
       "    </tr>\n",
       "    <tr>\n",
       "        <td>bicyclist_killed_count</td>\n",
       "        <td>BIGINT</td>\n",
       "        <td>YES</td>\n",
       "        <td>None</td>\n",
       "        <td>None</td>\n",
       "        <td>None</td>\n",
       "    </tr>\n",
       "    <tr>\n",
       "        <td>bicyclist_injured_count</td>\n",
       "        <td>BIGINT</td>\n",
       "        <td>YES</td>\n",
       "        <td>None</td>\n",
       "        <td>None</td>\n",
       "        <td>None</td>\n",
       "    </tr>\n",
       "    <tr>\n",
       "        <td>motorcyclist_killed_count</td>\n",
       "        <td>BIGINT</td>\n",
       "        <td>YES</td>\n",
       "        <td>None</td>\n",
       "        <td>None</td>\n",
       "        <td>None</td>\n",
       "    </tr>\n",
       "    <tr>\n",
       "        <td>motorcyclist_injured_count</td>\n",
       "        <td>BIGINT</td>\n",
       "        <td>YES</td>\n",
       "        <td>None</td>\n",
       "        <td>None</td>\n",
       "        <td>None</td>\n",
       "    </tr>\n",
       "    <tr>\n",
       "        <td>primary_ramp</td>\n",
       "        <td>VARCHAR</td>\n",
       "        <td>YES</td>\n",
       "        <td>None</td>\n",
       "        <td>None</td>\n",
       "        <td>None</td>\n",
       "    </tr>\n",
       "    <tr>\n",
       "        <td>secondary_ramp</td>\n",
       "        <td>VARCHAR</td>\n",
       "        <td>YES</td>\n",
       "        <td>None</td>\n",
       "        <td>None</td>\n",
       "        <td>None</td>\n",
       "    </tr>\n",
       "    <tr>\n",
       "        <td>latitude</td>\n",
       "        <td>DOUBLE</td>\n",
       "        <td>YES</td>\n",
       "        <td>None</td>\n",
       "        <td>None</td>\n",
       "        <td>None</td>\n",
       "    </tr>\n",
       "    <tr>\n",
       "        <td>longitude</td>\n",
       "        <td>DOUBLE</td>\n",
       "        <td>YES</td>\n",
       "        <td>None</td>\n",
       "        <td>None</td>\n",
       "        <td>None</td>\n",
       "    </tr>\n",
       "    <tr>\n",
       "        <td>collision_date</td>\n",
       "        <td>VARCHAR</td>\n",
       "        <td>YES</td>\n",
       "        <td>None</td>\n",
       "        <td>None</td>\n",
       "        <td>None</td>\n",
       "    </tr>\n",
       "    <tr>\n",
       "        <td>collision_time</td>\n",
       "        <td>VARCHAR</td>\n",
       "        <td>YES</td>\n",
       "        <td>None</td>\n",
       "        <td>None</td>\n",
       "        <td>None</td>\n",
       "    </tr>\n",
       "    <tr>\n",
       "        <td>process_date</td>\n",
       "        <td>VARCHAR</td>\n",
       "        <td>YES</td>\n",
       "        <td>None</td>\n",
       "        <td>None</td>\n",
       "        <td>None</td>\n",
       "    </tr>\n",
       "</table>"
      ],
      "text/plain": [
       "[('case_id', 'VARCHAR', 'YES', None, None, None),\n",
       " ('jurisdiction', 'BIGINT', 'YES', None, None, None),\n",
       " ('officer_id', 'VARCHAR', 'YES', None, None, None),\n",
       " ('reporting_district', 'VARCHAR', 'YES', None, None, None),\n",
       " ('chp_shift', 'VARCHAR', 'YES', None, None, None),\n",
       " ('population', 'VARCHAR', 'YES', None, None, None),\n",
       " ('county_city_location', 'VARCHAR', 'YES', None, None, None),\n",
       " ('county_location', 'VARCHAR', 'YES', None, None, None),\n",
       " ('special_condition', 'VARCHAR', 'YES', None, None, None),\n",
       " ('beat_type', 'VARCHAR', 'YES', None, None, None),\n",
       " ('chp_beat_type', 'VARCHAR', 'YES', None, None, None),\n",
       " ('city_division_lapd', 'VARCHAR', 'YES', None, None, None),\n",
       " ('chp_beat_class', 'VARCHAR', 'YES', None, None, None),\n",
       " ('beat_number', 'VARCHAR', 'YES', None, None, None),\n",
       " ('primary_road', 'VARCHAR', 'YES', None, None, None),\n",
       " ('secondary_road', 'VARCHAR', 'YES', None, None, None),\n",
       " ('distance', 'DOUBLE', 'YES', None, None, None),\n",
       " ('direction', 'VARCHAR', 'YES', None, None, None),\n",
       " ('intersection', 'BIGINT', 'YES', None, None, None),\n",
       " ('weather_1', 'VARCHAR', 'YES', None, None, None),\n",
       " ('weather_2', 'VARCHAR', 'YES', None, None, None),\n",
       " ('state_highway_indicator', 'BIGINT', 'YES', None, None, None),\n",
       " ('caltrans_county', 'VARCHAR', 'YES', None, None, None),\n",
       " ('caltrans_district', 'BIGINT', 'YES', None, None, None),\n",
       " ('state_route', 'BIGINT', 'YES', None, None, None),\n",
       " ('route_suffix', 'VARCHAR', 'YES', None, None, None),\n",
       " ('postmile_prefix', 'VARCHAR', 'YES', None, None, None),\n",
       " ('postmile', 'DOUBLE', 'YES', None, None, None),\n",
       " ('location_type', 'VARCHAR', 'YES', None, None, None),\n",
       " ('ramp_intersection', 'VARCHAR', 'YES', None, None, None),\n",
       " ('side_of_highway', 'VARCHAR', 'YES', None, None, None),\n",
       " ('tow_away', 'BIGINT', 'YES', None, None, None),\n",
       " ('collision_severity', 'VARCHAR', 'YES', None, None, None),\n",
       " ('killed_victims', 'BIGINT', 'YES', None, None, None),\n",
       " ('injured_victims', 'BIGINT', 'YES', None, None, None),\n",
       " ('party_count', 'BIGINT', 'YES', None, None, None),\n",
       " ('primary_collision_factor', 'VARCHAR', 'YES', None, None, None),\n",
       " ('pcf_violation_code', 'VARCHAR', 'YES', None, None, None),\n",
       " ('pcf_violation_category', 'VARCHAR', 'YES', None, None, None),\n",
       " ('pcf_violation', 'BIGINT', 'YES', None, None, None),\n",
       " ('pcf_violation_subsection', 'VARCHAR', 'YES', None, None, None),\n",
       " ('hit_and_run', 'VARCHAR', 'YES', None, None, None),\n",
       " ('type_of_collision', 'VARCHAR', 'YES', None, None, None),\n",
       " ('motor_vehicle_involved_with', 'VARCHAR', 'YES', None, None, None),\n",
       " ('pedestrian_action', 'VARCHAR', 'YES', None, None, None),\n",
       " ('road_surface', 'VARCHAR', 'YES', None, None, None),\n",
       " ('road_condition_1', 'VARCHAR', 'YES', None, None, None),\n",
       " ('road_condition_2', 'VARCHAR', 'YES', None, None, None),\n",
       " ('lighting', 'VARCHAR', 'YES', None, None, None),\n",
       " ('control_device', 'VARCHAR', 'YES', None, None, None),\n",
       " ('chp_road_type', 'VARCHAR', 'YES', None, None, None),\n",
       " ('pedestrian_collision', 'BIGINT', 'YES', None, None, None),\n",
       " ('bicycle_collision', 'BIGINT', 'YES', None, None, None),\n",
       " ('motorcycle_collision', 'BIGINT', 'YES', None, None, None),\n",
       " ('truck_collision', 'BIGINT', 'YES', None, None, None),\n",
       " ('not_private_property', 'BIGINT', 'YES', None, None, None),\n",
       " ('alcohol_involved', 'BIGINT', 'YES', None, None, None),\n",
       " ('statewide_vehicle_type_at_fault', 'VARCHAR', 'YES', None, None, None),\n",
       " ('chp_vehicle_type_at_fault', 'VARCHAR', 'YES', None, None, None),\n",
       " ('severe_injury_count', 'BIGINT', 'YES', None, None, None),\n",
       " ('other_visible_injury_count', 'BIGINT', 'YES', None, None, None),\n",
       " ('complaint_of_pain_injury_count', 'BIGINT', 'YES', None, None, None),\n",
       " ('pedestrian_killed_count', 'BIGINT', 'YES', None, None, None),\n",
       " ('pedestrian_injured_count', 'BIGINT', 'YES', None, None, None),\n",
       " ('bicyclist_killed_count', 'BIGINT', 'YES', None, None, None),\n",
       " ('bicyclist_injured_count', 'BIGINT', 'YES', None, None, None),\n",
       " ('motorcyclist_killed_count', 'BIGINT', 'YES', None, None, None),\n",
       " ('motorcyclist_injured_count', 'BIGINT', 'YES', None, None, None),\n",
       " ('primary_ramp', 'VARCHAR', 'YES', None, None, None),\n",
       " ('secondary_ramp', 'VARCHAR', 'YES', None, None, None),\n",
       " ('latitude', 'DOUBLE', 'YES', None, None, None),\n",
       " ('longitude', 'DOUBLE', 'YES', None, None, None),\n",
       " ('collision_date', 'VARCHAR', 'YES', None, None, None),\n",
       " ('collision_time', 'VARCHAR', 'YES', None, None, None),\n",
       " ('process_date', 'VARCHAR', 'YES', None, None, None)]"
      ]
     },
     "execution_count": 6,
     "metadata": {},
     "output_type": "execute_result"
    }
   ],
   "source": [
    "%sql DESCRIBE collisions;\n"
   ]
  },
  {
   "cell_type": "code",
   "execution_count": 7,
   "metadata": {
    "execution": {
     "iopub.execute_input": "2023-03-05T20:59:29.641960Z",
     "iopub.status.busy": "2023-03-05T20:59:29.641059Z",
     "iopub.status.idle": "2023-03-05T20:59:30.608311Z",
     "shell.execute_reply": "2023-03-05T20:59:30.606879Z",
     "shell.execute_reply.started": "2023-03-05T20:59:29.641915Z"
    }
   },
   "outputs": [
    {
     "data": {
      "text/html": [
       "<table>\n",
       "    <tr>\n",
       "        <th>column_name</th>\n",
       "        <th>column_type</th>\n",
       "        <th>null</th>\n",
       "        <th>key</th>\n",
       "        <th>default</th>\n",
       "        <th>extra</th>\n",
       "    </tr>\n",
       "    <tr>\n",
       "        <td>id</td>\n",
       "        <td>BIGINT</td>\n",
       "        <td>YES</td>\n",
       "        <td>None</td>\n",
       "        <td>None</td>\n",
       "        <td>None</td>\n",
       "    </tr>\n",
       "    <tr>\n",
       "        <td>case_id</td>\n",
       "        <td>VARCHAR</td>\n",
       "        <td>YES</td>\n",
       "        <td>None</td>\n",
       "        <td>None</td>\n",
       "        <td>None</td>\n",
       "    </tr>\n",
       "    <tr>\n",
       "        <td>party_number</td>\n",
       "        <td>BIGINT</td>\n",
       "        <td>YES</td>\n",
       "        <td>None</td>\n",
       "        <td>None</td>\n",
       "        <td>None</td>\n",
       "    </tr>\n",
       "    <tr>\n",
       "        <td>party_type</td>\n",
       "        <td>VARCHAR</td>\n",
       "        <td>YES</td>\n",
       "        <td>None</td>\n",
       "        <td>None</td>\n",
       "        <td>None</td>\n",
       "    </tr>\n",
       "    <tr>\n",
       "        <td>at_fault</td>\n",
       "        <td>BIGINT</td>\n",
       "        <td>YES</td>\n",
       "        <td>None</td>\n",
       "        <td>None</td>\n",
       "        <td>None</td>\n",
       "    </tr>\n",
       "    <tr>\n",
       "        <td>party_sex</td>\n",
       "        <td>VARCHAR</td>\n",
       "        <td>YES</td>\n",
       "        <td>None</td>\n",
       "        <td>None</td>\n",
       "        <td>None</td>\n",
       "    </tr>\n",
       "    <tr>\n",
       "        <td>party_age</td>\n",
       "        <td>BIGINT</td>\n",
       "        <td>YES</td>\n",
       "        <td>None</td>\n",
       "        <td>None</td>\n",
       "        <td>None</td>\n",
       "    </tr>\n",
       "    <tr>\n",
       "        <td>party_sobriety</td>\n",
       "        <td>VARCHAR</td>\n",
       "        <td>YES</td>\n",
       "        <td>None</td>\n",
       "        <td>None</td>\n",
       "        <td>None</td>\n",
       "    </tr>\n",
       "    <tr>\n",
       "        <td>party_drug_physical</td>\n",
       "        <td>VARCHAR</td>\n",
       "        <td>YES</td>\n",
       "        <td>None</td>\n",
       "        <td>None</td>\n",
       "        <td>None</td>\n",
       "    </tr>\n",
       "    <tr>\n",
       "        <td>direction_of_travel</td>\n",
       "        <td>VARCHAR</td>\n",
       "        <td>YES</td>\n",
       "        <td>None</td>\n",
       "        <td>None</td>\n",
       "        <td>None</td>\n",
       "    </tr>\n",
       "    <tr>\n",
       "        <td>party_safety_equipment_1</td>\n",
       "        <td>VARCHAR</td>\n",
       "        <td>YES</td>\n",
       "        <td>None</td>\n",
       "        <td>None</td>\n",
       "        <td>None</td>\n",
       "    </tr>\n",
       "    <tr>\n",
       "        <td>party_safety_equipment_2</td>\n",
       "        <td>VARCHAR</td>\n",
       "        <td>YES</td>\n",
       "        <td>None</td>\n",
       "        <td>None</td>\n",
       "        <td>None</td>\n",
       "    </tr>\n",
       "    <tr>\n",
       "        <td>financial_responsibility</td>\n",
       "        <td>VARCHAR</td>\n",
       "        <td>YES</td>\n",
       "        <td>None</td>\n",
       "        <td>None</td>\n",
       "        <td>None</td>\n",
       "    </tr>\n",
       "    <tr>\n",
       "        <td>hazardous_materials</td>\n",
       "        <td>BIGINT</td>\n",
       "        <td>YES</td>\n",
       "        <td>None</td>\n",
       "        <td>None</td>\n",
       "        <td>None</td>\n",
       "    </tr>\n",
       "    <tr>\n",
       "        <td>cellphone_in_use</td>\n",
       "        <td>BIGINT</td>\n",
       "        <td>YES</td>\n",
       "        <td>None</td>\n",
       "        <td>None</td>\n",
       "        <td>None</td>\n",
       "    </tr>\n",
       "    <tr>\n",
       "        <td>cellphone_use_type</td>\n",
       "        <td>VARCHAR</td>\n",
       "        <td>YES</td>\n",
       "        <td>None</td>\n",
       "        <td>None</td>\n",
       "        <td>None</td>\n",
       "    </tr>\n",
       "    <tr>\n",
       "        <td>school_bus_related</td>\n",
       "        <td>BIGINT</td>\n",
       "        <td>YES</td>\n",
       "        <td>None</td>\n",
       "        <td>None</td>\n",
       "        <td>None</td>\n",
       "    </tr>\n",
       "    <tr>\n",
       "        <td>oaf_violation_code</td>\n",
       "        <td>VARCHAR</td>\n",
       "        <td>YES</td>\n",
       "        <td>None</td>\n",
       "        <td>None</td>\n",
       "        <td>None</td>\n",
       "    </tr>\n",
       "    <tr>\n",
       "        <td>oaf_violation_category</td>\n",
       "        <td>VARCHAR</td>\n",
       "        <td>YES</td>\n",
       "        <td>None</td>\n",
       "        <td>None</td>\n",
       "        <td>None</td>\n",
       "    </tr>\n",
       "    <tr>\n",
       "        <td>oaf_violation_section</td>\n",
       "        <td>VARCHAR</td>\n",
       "        <td>YES</td>\n",
       "        <td>None</td>\n",
       "        <td>None</td>\n",
       "        <td>None</td>\n",
       "    </tr>\n",
       "    <tr>\n",
       "        <td>oaf_violation_suffix</td>\n",
       "        <td>VARCHAR</td>\n",
       "        <td>YES</td>\n",
       "        <td>None</td>\n",
       "        <td>None</td>\n",
       "        <td>None</td>\n",
       "    </tr>\n",
       "    <tr>\n",
       "        <td>other_associate_factor_1</td>\n",
       "        <td>VARCHAR</td>\n",
       "        <td>YES</td>\n",
       "        <td>None</td>\n",
       "        <td>None</td>\n",
       "        <td>None</td>\n",
       "    </tr>\n",
       "    <tr>\n",
       "        <td>other_associate_factor_2</td>\n",
       "        <td>VARCHAR</td>\n",
       "        <td>YES</td>\n",
       "        <td>None</td>\n",
       "        <td>None</td>\n",
       "        <td>None</td>\n",
       "    </tr>\n",
       "    <tr>\n",
       "        <td>party_number_killed</td>\n",
       "        <td>BIGINT</td>\n",
       "        <td>YES</td>\n",
       "        <td>None</td>\n",
       "        <td>None</td>\n",
       "        <td>None</td>\n",
       "    </tr>\n",
       "    <tr>\n",
       "        <td>party_number_injured</td>\n",
       "        <td>BIGINT</td>\n",
       "        <td>YES</td>\n",
       "        <td>None</td>\n",
       "        <td>None</td>\n",
       "        <td>None</td>\n",
       "    </tr>\n",
       "    <tr>\n",
       "        <td>movement_preceding_collision</td>\n",
       "        <td>VARCHAR</td>\n",
       "        <td>YES</td>\n",
       "        <td>None</td>\n",
       "        <td>None</td>\n",
       "        <td>None</td>\n",
       "    </tr>\n",
       "    <tr>\n",
       "        <td>vehicle_year</td>\n",
       "        <td>BIGINT</td>\n",
       "        <td>YES</td>\n",
       "        <td>None</td>\n",
       "        <td>None</td>\n",
       "        <td>None</td>\n",
       "    </tr>\n",
       "    <tr>\n",
       "        <td>vehicle_make</td>\n",
       "        <td>VARCHAR</td>\n",
       "        <td>YES</td>\n",
       "        <td>None</td>\n",
       "        <td>None</td>\n",
       "        <td>None</td>\n",
       "    </tr>\n",
       "    <tr>\n",
       "        <td>statewide_vehicle_type</td>\n",
       "        <td>VARCHAR</td>\n",
       "        <td>YES</td>\n",
       "        <td>None</td>\n",
       "        <td>None</td>\n",
       "        <td>None</td>\n",
       "    </tr>\n",
       "    <tr>\n",
       "        <td>chp_vehicle_type_towing</td>\n",
       "        <td>VARCHAR</td>\n",
       "        <td>YES</td>\n",
       "        <td>None</td>\n",
       "        <td>None</td>\n",
       "        <td>None</td>\n",
       "    </tr>\n",
       "    <tr>\n",
       "        <td>chp_vehicle_type_towed</td>\n",
       "        <td>VARCHAR</td>\n",
       "        <td>YES</td>\n",
       "        <td>None</td>\n",
       "        <td>None</td>\n",
       "        <td>None</td>\n",
       "    </tr>\n",
       "    <tr>\n",
       "        <td>party_race</td>\n",
       "        <td>VARCHAR</td>\n",
       "        <td>YES</td>\n",
       "        <td>None</td>\n",
       "        <td>None</td>\n",
       "        <td>None</td>\n",
       "    </tr>\n",
       "</table>"
      ],
      "text/plain": [
       "[('id', 'BIGINT', 'YES', None, None, None),\n",
       " ('case_id', 'VARCHAR', 'YES', None, None, None),\n",
       " ('party_number', 'BIGINT', 'YES', None, None, None),\n",
       " ('party_type', 'VARCHAR', 'YES', None, None, None),\n",
       " ('at_fault', 'BIGINT', 'YES', None, None, None),\n",
       " ('party_sex', 'VARCHAR', 'YES', None, None, None),\n",
       " ('party_age', 'BIGINT', 'YES', None, None, None),\n",
       " ('party_sobriety', 'VARCHAR', 'YES', None, None, None),\n",
       " ('party_drug_physical', 'VARCHAR', 'YES', None, None, None),\n",
       " ('direction_of_travel', 'VARCHAR', 'YES', None, None, None),\n",
       " ('party_safety_equipment_1', 'VARCHAR', 'YES', None, None, None),\n",
       " ('party_safety_equipment_2', 'VARCHAR', 'YES', None, None, None),\n",
       " ('financial_responsibility', 'VARCHAR', 'YES', None, None, None),\n",
       " ('hazardous_materials', 'BIGINT', 'YES', None, None, None),\n",
       " ('cellphone_in_use', 'BIGINT', 'YES', None, None, None),\n",
       " ('cellphone_use_type', 'VARCHAR', 'YES', None, None, None),\n",
       " ('school_bus_related', 'BIGINT', 'YES', None, None, None),\n",
       " ('oaf_violation_code', 'VARCHAR', 'YES', None, None, None),\n",
       " ('oaf_violation_category', 'VARCHAR', 'YES', None, None, None),\n",
       " ('oaf_violation_section', 'VARCHAR', 'YES', None, None, None),\n",
       " ('oaf_violation_suffix', 'VARCHAR', 'YES', None, None, None),\n",
       " ('other_associate_factor_1', 'VARCHAR', 'YES', None, None, None),\n",
       " ('other_associate_factor_2', 'VARCHAR', 'YES', None, None, None),\n",
       " ('party_number_killed', 'BIGINT', 'YES', None, None, None),\n",
       " ('party_number_injured', 'BIGINT', 'YES', None, None, None),\n",
       " ('movement_preceding_collision', 'VARCHAR', 'YES', None, None, None),\n",
       " ('vehicle_year', 'BIGINT', 'YES', None, None, None),\n",
       " ('vehicle_make', 'VARCHAR', 'YES', None, None, None),\n",
       " ('statewide_vehicle_type', 'VARCHAR', 'YES', None, None, None),\n",
       " ('chp_vehicle_type_towing', 'VARCHAR', 'YES', None, None, None),\n",
       " ('chp_vehicle_type_towed', 'VARCHAR', 'YES', None, None, None),\n",
       " ('party_race', 'VARCHAR', 'YES', None, None, None)]"
      ]
     },
     "execution_count": 7,
     "metadata": {},
     "output_type": "execute_result"
    }
   ],
   "source": [
    "%sql DESCRIBE parties;"
   ]
  },
  {
   "cell_type": "code",
   "execution_count": 8,
   "metadata": {
    "execution": {
     "iopub.execute_input": "2023-03-05T20:59:30.610755Z",
     "iopub.status.busy": "2023-03-05T20:59:30.609800Z",
     "iopub.status.idle": "2023-03-05T20:59:31.708743Z",
     "shell.execute_reply": "2023-03-05T20:59:31.707147Z",
     "shell.execute_reply.started": "2023-03-05T20:59:30.610713Z"
    }
   },
   "outputs": [
    {
     "data": {
      "text/html": [
       "<table>\n",
       "    <tr>\n",
       "        <th>column_name</th>\n",
       "        <th>column_type</th>\n",
       "        <th>null</th>\n",
       "        <th>key</th>\n",
       "        <th>default</th>\n",
       "        <th>extra</th>\n",
       "    </tr>\n",
       "    <tr>\n",
       "        <td>id</td>\n",
       "        <td>BIGINT</td>\n",
       "        <td>YES</td>\n",
       "        <td>None</td>\n",
       "        <td>None</td>\n",
       "        <td>None</td>\n",
       "    </tr>\n",
       "    <tr>\n",
       "        <td>case_id</td>\n",
       "        <td>VARCHAR</td>\n",
       "        <td>YES</td>\n",
       "        <td>None</td>\n",
       "        <td>None</td>\n",
       "        <td>None</td>\n",
       "    </tr>\n",
       "    <tr>\n",
       "        <td>party_number</td>\n",
       "        <td>BIGINT</td>\n",
       "        <td>YES</td>\n",
       "        <td>None</td>\n",
       "        <td>None</td>\n",
       "        <td>None</td>\n",
       "    </tr>\n",
       "    <tr>\n",
       "        <td>victim_role</td>\n",
       "        <td>VARCHAR</td>\n",
       "        <td>YES</td>\n",
       "        <td>None</td>\n",
       "        <td>None</td>\n",
       "        <td>None</td>\n",
       "    </tr>\n",
       "    <tr>\n",
       "        <td>victim_sex</td>\n",
       "        <td>VARCHAR</td>\n",
       "        <td>YES</td>\n",
       "        <td>None</td>\n",
       "        <td>None</td>\n",
       "        <td>None</td>\n",
       "    </tr>\n",
       "    <tr>\n",
       "        <td>victim_age</td>\n",
       "        <td>BIGINT</td>\n",
       "        <td>YES</td>\n",
       "        <td>None</td>\n",
       "        <td>None</td>\n",
       "        <td>None</td>\n",
       "    </tr>\n",
       "    <tr>\n",
       "        <td>victim_degree_of_injury</td>\n",
       "        <td>VARCHAR</td>\n",
       "        <td>YES</td>\n",
       "        <td>None</td>\n",
       "        <td>None</td>\n",
       "        <td>None</td>\n",
       "    </tr>\n",
       "    <tr>\n",
       "        <td>victim_seating_position</td>\n",
       "        <td>VARCHAR</td>\n",
       "        <td>YES</td>\n",
       "        <td>None</td>\n",
       "        <td>None</td>\n",
       "        <td>None</td>\n",
       "    </tr>\n",
       "    <tr>\n",
       "        <td>victim_safety_equipment_1</td>\n",
       "        <td>VARCHAR</td>\n",
       "        <td>YES</td>\n",
       "        <td>None</td>\n",
       "        <td>None</td>\n",
       "        <td>None</td>\n",
       "    </tr>\n",
       "    <tr>\n",
       "        <td>victim_safety_equipment_2</td>\n",
       "        <td>VARCHAR</td>\n",
       "        <td>YES</td>\n",
       "        <td>None</td>\n",
       "        <td>None</td>\n",
       "        <td>None</td>\n",
       "    </tr>\n",
       "    <tr>\n",
       "        <td>victim_ejected</td>\n",
       "        <td>VARCHAR</td>\n",
       "        <td>YES</td>\n",
       "        <td>None</td>\n",
       "        <td>None</td>\n",
       "        <td>None</td>\n",
       "    </tr>\n",
       "</table>"
      ],
      "text/plain": [
       "[('id', 'BIGINT', 'YES', None, None, None),\n",
       " ('case_id', 'VARCHAR', 'YES', None, None, None),\n",
       " ('party_number', 'BIGINT', 'YES', None, None, None),\n",
       " ('victim_role', 'VARCHAR', 'YES', None, None, None),\n",
       " ('victim_sex', 'VARCHAR', 'YES', None, None, None),\n",
       " ('victim_age', 'BIGINT', 'YES', None, None, None),\n",
       " ('victim_degree_of_injury', 'VARCHAR', 'YES', None, None, None),\n",
       " ('victim_seating_position', 'VARCHAR', 'YES', None, None, None),\n",
       " ('victim_safety_equipment_1', 'VARCHAR', 'YES', None, None, None),\n",
       " ('victim_safety_equipment_2', 'VARCHAR', 'YES', None, None, None),\n",
       " ('victim_ejected', 'VARCHAR', 'YES', None, None, None)]"
      ]
     },
     "execution_count": 8,
     "metadata": {},
     "output_type": "execute_result"
    }
   ],
   "source": [
    "%sql DESCRIBE victims;"
   ]
  },
  {
   "cell_type": "markdown",
   "metadata": {},
   "source": [
    "## Answering some questions:"
   ]
  },
  {
   "cell_type": "markdown",
   "metadata": {},
   "source": [
    "## 1. the time duration covered by the database"
   ]
  },
  {
   "cell_type": "code",
   "execution_count": 9,
   "metadata": {
    "execution": {
     "iopub.execute_input": "2023-03-05T20:59:31.712290Z",
     "iopub.status.busy": "2023-03-05T20:59:31.711484Z",
     "iopub.status.idle": "2023-03-05T20:59:46.963311Z",
     "shell.execute_reply": "2023-03-05T20:59:46.961989Z",
     "shell.execute_reply.started": "2023-03-05T20:59:31.712237Z"
    }
   },
   "outputs": [
    {
     "data": {
      "text/html": [
       "<table>\n",
       "    <tr>\n",
       "        <th>lowest date</th>\n",
       "        <th>highest date</th>\n",
       "    </tr>\n",
       "    <tr>\n",
       "        <td>2001-01-01</td>\n",
       "        <td>2021-06-03</td>\n",
       "    </tr>\n",
       "</table>"
      ],
      "text/plain": [
       "[(datetime.date(2001, 1, 1), datetime.date(2021, 6, 3))]"
      ]
     },
     "execution_count": 9,
     "metadata": {},
     "output_type": "execute_result"
    }
   ],
   "source": [
    "%%sql\n",
    "SELECT MIN(cast(collision_date as DATE)) as 'lowest date',\n",
    "       MAX(cast(collision_date as DATE)) as 'highest date'\n",
    "FROM collisions;"
   ]
  },
  {
   "cell_type": "markdown",
   "metadata": {},
   "source": [
    "This database contain records of collisions from 1st of january, 2001 to 3rd of june, 2021"
   ]
  },
  {
   "cell_type": "markdown",
   "metadata": {},
   "source": [
    "## 2.Total number of collisions recorded?\n"
   ]
  },
  {
   "cell_type": "code",
   "execution_count": 10,
   "metadata": {
    "execution": {
     "iopub.execute_input": "2023-03-05T20:59:46.965204Z",
     "iopub.status.busy": "2023-03-05T20:59:46.964740Z",
     "iopub.status.idle": "2023-03-05T21:00:00.754544Z",
     "shell.execute_reply": "2023-03-05T21:00:00.753456Z",
     "shell.execute_reply.started": "2023-03-05T20:59:46.965155Z"
    }
   },
   "outputs": [
    {
     "data": {
      "text/html": [
       "<table>\n",
       "    <tr>\n",
       "        <th>Total collisions</th>\n",
       "    </tr>\n",
       "    <tr>\n",
       "        <td>9424334</td>\n",
       "    </tr>\n",
       "</table>"
      ],
      "text/plain": [
       "[(9424334,)]"
      ]
     },
     "execution_count": 10,
     "metadata": {},
     "output_type": "execute_result"
    }
   ],
   "source": [
    "%%sql\n",
    "SELECT COUNT(case_id) AS 'Total collisions'\n",
    "FROM collisions;"
   ]
  },
  {
   "cell_type": "markdown",
   "metadata": {},
   "source": [
    "The total number of collisions recorded is 9424334 (nine million four hundred twenty-four thousand three hundred thirty-four collisions)"
   ]
  },
  {
   "cell_type": "markdown",
   "metadata": {},
   "source": [
    "## 3. Year with highest collisions recorded?"
   ]
  },
  {
   "cell_type": "code",
   "execution_count": 11,
   "metadata": {
    "execution": {
     "iopub.execute_input": "2023-03-05T21:00:00.756741Z",
     "iopub.status.busy": "2023-03-05T21:00:00.755797Z",
     "iopub.status.idle": "2023-03-05T21:00:15.384690Z",
     "shell.execute_reply": "2023-03-05T21:00:15.383330Z",
     "shell.execute_reply.started": "2023-03-05T21:00:00.756703Z"
    }
   },
   "outputs": [
    {
     "data": {
      "text/html": [
       "<table>\n",
       "    <tr>\n",
       "        <th>year</th>\n",
       "        <th>Number of collisions</th>\n",
       "    </tr>\n",
       "    <tr>\n",
       "        <td>2002</td>\n",
       "        <td>544741</td>\n",
       "    </tr>\n",
       "    <tr>\n",
       "        <td>2003</td>\n",
       "        <td>538954</td>\n",
       "    </tr>\n",
       "    <tr>\n",
       "        <td>2004</td>\n",
       "        <td>538295</td>\n",
       "    </tr>\n",
       "    <tr>\n",
       "        <td>2005</td>\n",
       "        <td>532725</td>\n",
       "    </tr>\n",
       "    <tr>\n",
       "        <td>2001</td>\n",
       "        <td>522562</td>\n",
       "    </tr>\n",
       "    <tr>\n",
       "        <td>2007</td>\n",
       "        <td>501908</td>\n",
       "    </tr>\n",
       "    <tr>\n",
       "        <td>2006</td>\n",
       "        <td>498846</td>\n",
       "    </tr>\n",
       "    <tr>\n",
       "        <td>2016</td>\n",
       "        <td>491619</td>\n",
       "    </tr>\n",
       "    <tr>\n",
       "        <td>2017</td>\n",
       "        <td>486432</td>\n",
       "    </tr>\n",
       "    <tr>\n",
       "        <td>2018</td>\n",
       "        <td>482296</td>\n",
       "    </tr>\n",
       "    <tr>\n",
       "        <td>2019</td>\n",
       "        <td>470352</td>\n",
       "    </tr>\n",
       "    <tr>\n",
       "        <td>2008</td>\n",
       "        <td>452595</td>\n",
       "    </tr>\n",
       "    <tr>\n",
       "        <td>2015</td>\n",
       "        <td>438169</td>\n",
       "    </tr>\n",
       "    <tr>\n",
       "        <td>2009</td>\n",
       "        <td>426228</td>\n",
       "    </tr>\n",
       "    <tr>\n",
       "        <td>2010</td>\n",
       "        <td>416490</td>\n",
       "    </tr>\n",
       "    <tr>\n",
       "        <td>2011</td>\n",
       "        <td>403629</td>\n",
       "    </tr>\n",
       "    <tr>\n",
       "        <td>2014</td>\n",
       "        <td>399565</td>\n",
       "    </tr>\n",
       "    <tr>\n",
       "        <td>2012</td>\n",
       "        <td>395901</td>\n",
       "    </tr>\n",
       "    <tr>\n",
       "        <td>2013</td>\n",
       "        <td>383840</td>\n",
       "    </tr>\n",
       "    <tr>\n",
       "        <td>2020</td>\n",
       "        <td>366417</td>\n",
       "    </tr>\n",
       "    <tr>\n",
       "        <td>2021</td>\n",
       "        <td>132770</td>\n",
       "    </tr>\n",
       "</table>"
      ],
      "text/plain": [
       "[(2002, 544741),\n",
       " (2003, 538954),\n",
       " (2004, 538295),\n",
       " (2005, 532725),\n",
       " (2001, 522562),\n",
       " (2007, 501908),\n",
       " (2006, 498846),\n",
       " (2016, 491619),\n",
       " (2017, 486432),\n",
       " (2018, 482296),\n",
       " (2019, 470352),\n",
       " (2008, 452595),\n",
       " (2015, 438169),\n",
       " (2009, 426228),\n",
       " (2010, 416490),\n",
       " (2011, 403629),\n",
       " (2014, 399565),\n",
       " (2012, 395901),\n",
       " (2013, 383840),\n",
       " (2020, 366417),\n",
       " (2021, 132770)]"
      ]
     },
     "execution_count": 11,
     "metadata": {},
     "output_type": "execute_result"
    }
   ],
   "source": [
    "%%sql\n",
    "SELECT EXTRACT(YEAR FROM CAST(collision_date AS DATE)) AS 'year',COUNT(*) AS 'Number of collisions'\n",
    "FROM collisions\n",
    "GROUP BY year\n",
    "ORDER BY COUNT(*) DESC"
   ]
  },
  {
   "cell_type": "code",
   "execution_count": 12,
   "metadata": {
    "execution": {
     "iopub.execute_input": "2023-03-05T21:00:15.386417Z",
     "iopub.status.busy": "2023-03-05T21:00:15.386064Z",
     "iopub.status.idle": "2023-03-05T21:00:31.401797Z",
     "shell.execute_reply": "2023-03-05T21:00:31.400573Z",
     "shell.execute_reply.started": "2023-03-05T21:00:15.386384Z"
    }
   },
   "outputs": [
    {
     "data": {
      "image/png": "[encoded data removed]",
      "text/plain": [
       "<Figure size 864x360 with 1 Axes>"
      ]
     },
     "metadata": {},
     "output_type": "display_data"
    }
   ],
   "source": [
    "year_count_rs= %sql SELECT EXTRACT(YEAR FROM CAST(collision_date AS DATE)) AS 'year',COUNT(*) AS 'Number of collisions'\\\n",
    "            FROM collisions \\\n",
    "            GROUP BY year \\\n",
    "            ORDER BY COUNT(*) DESC\n",
    "\n",
    "year_count_df=year_count_rs.DataFrame()\n",
    "plt.figure(figsize=(12,5))\n",
    "sns.lineplot(data=year_count_df,x='year',y='Number of collisions',color='red',markers='o')\n",
    "plt.xticks(range(2001,2022))\n",
    "plt.show()"
   ]
  },
  {
   "cell_type": "markdown",
   "metadata": {},
   "source": [
    "From the table and the graph, the year 2002 had the highest collisions recorded. the top 3 years with highest collsions records are 2002, 2003,2004. 2021 had the lowest collisions recorded since 2001, however, it should be noted that the data only covers first 6 months of 2021. apart from 2021,2020 has the second lowest collisions. "
   ]
  },
  {
   "cell_type": "markdown",
   "metadata": {},
   "source": [
    "## 4. county with highest collisions?"
   ]
  },
  {
   "cell_type": "code",
   "execution_count": 13,
   "metadata": {
    "execution": {
     "iopub.execute_input": "2023-03-05T21:00:31.407380Z",
     "iopub.status.busy": "2023-03-05T21:00:31.406862Z",
     "iopub.status.idle": "2023-03-05T21:00:45.592898Z",
     "shell.execute_reply": "2023-03-05T21:00:45.591898Z",
     "shell.execute_reply.started": "2023-03-05T21:00:31.407339Z"
    }
   },
   "outputs": [
    {
     "data": {
      "text/html": [
       "<table>\n",
       "    <tr>\n",
       "        <th>county_location</th>\n",
       "        <th>Total collisions per county</th>\n",
       "    </tr>\n",
       "    <tr>\n",
       "        <td>los angeles</td>\n",
       "        <td>2851925</td>\n",
       "    </tr>\n",
       "    <tr>\n",
       "        <td>orange</td>\n",
       "        <td>728565</td>\n",
       "    </tr>\n",
       "    <tr>\n",
       "        <td>san bernardino</td>\n",
       "        <td>569376</td>\n",
       "    </tr>\n",
       "    <tr>\n",
       "        <td>san diego</td>\n",
       "        <td>535596</td>\n",
       "    </tr>\n",
       "    <tr>\n",
       "        <td>riverside</td>\n",
       "        <td>493758</td>\n",
       "    </tr>\n",
       "    <tr>\n",
       "        <td>alameda</td>\n",
       "        <td>466969</td>\n",
       "    </tr>\n",
       "    <tr>\n",
       "        <td>sacramento</td>\n",
       "        <td>403575</td>\n",
       "    </tr>\n",
       "    <tr>\n",
       "        <td>santa clara</td>\n",
       "        <td>342603</td>\n",
       "    </tr>\n",
       "    <tr>\n",
       "        <td>contra costa</td>\n",
       "        <td>217025</td>\n",
       "    </tr>\n",
       "    <tr>\n",
       "        <td>san joaquin</td>\n",
       "        <td>209185</td>\n",
       "    </tr>\n",
       "</table>"
      ],
      "text/plain": [
       "[('los angeles', 2851925),\n",
       " ('orange', 728565),\n",
       " ('san bernardino', 569376),\n",
       " ('san diego', 535596),\n",
       " ('riverside', 493758),\n",
       " ('alameda', 466969),\n",
       " ('sacramento', 403575),\n",
       " ('santa clara', 342603),\n",
       " ('contra costa', 217025),\n",
       " ('san joaquin', 209185)]"
      ]
     },
     "execution_count": 13,
     "metadata": {},
     "output_type": "execute_result"
    }
   ],
   "source": [
    "%%sql\n",
    "SELECT county_location,COUNT(*) as 'Total collisions per county'\n",
    "FROM collisions\n",
    "GROUP BY county_location\n",
    "ORDER BY COUNT(*) DESC\n",
    "LIMIT 10"
   ]
  },
  {
   "cell_type": "code",
   "execution_count": 14,
   "metadata": {
    "execution": {
     "iopub.execute_input": "2023-03-05T21:00:45.595350Z",
     "iopub.status.busy": "2023-03-05T21:00:45.594304Z",
     "iopub.status.idle": "2023-03-05T21:01:00.877072Z",
     "shell.execute_reply": "2023-03-05T21:01:00.876038Z",
     "shell.execute_reply.started": "2023-03-05T21:00:45.595298Z"
    }
   },
   "outputs": [
    {
     "data": {
      "image/png": "[encoded data removed]",
      "text/plain": [
       "<Figure size 720x360 with 1 Axes>"
      ]
     },
     "metadata": {},
     "output_type": "display_data"
    }
   ],
   "source": [
    "#plot top 7 counties with lowest collisions\n",
    "plot = %sql SELECT county_location,COUNT(*) as 'Total collisions per county' \\\n",
    "        FROM collisions \\\n",
    "        GROUP BY county_location \\\n",
    "        ORDER BY COUNT(*) \\\n",
    "        LIMIT 10;\n",
    "\n",
    "plt.figure(figsize=(10,5))\n",
    "plot.bar(color='red',edgecolor='0.1',linewidth=1.2).set_title('7 Counties with lowest collsions')\n",
    "plt.xticks(fontsize=12)\n",
    "plt.show()"
   ]
  },
  {
   "cell_type": "markdown",
   "metadata": {},
   "source": [
    "Los angeles has the highest collisions with more than 2M entries while sierra has the lowest with about 1447 collisions recorded. the top 7 counties with the lowest collisions are shown in the graph above"
   ]
  },
  {
   "cell_type": "markdown",
   "metadata": {},
   "source": [
    "## "
   ]
  },
  {
   "cell_type": "markdown",
   "metadata": {},
   "source": [
    "## 5. how many collision involved alcohol?"
   ]
  },
  {
   "cell_type": "code",
   "execution_count": 15,
   "metadata": {
    "execution": {
     "iopub.execute_input": "2023-03-05T21:01:00.879646Z",
     "iopub.status.busy": "2023-03-05T21:01:00.878456Z",
     "iopub.status.idle": "2023-03-05T21:01:15.362223Z",
     "shell.execute_reply": "2023-03-05T21:01:15.360985Z",
     "shell.execute_reply.started": "2023-03-05T21:01:00.879591Z"
    }
   },
   "outputs": [
    {
     "data": {
      "text/html": [
       "<table>\n",
       "    <tr>\n",
       "        <th>Percentage of alcohol invoved</th>\n",
       "    </tr>\n",
       "    <tr>\n",
       "        <td>10.02</td>\n",
       "    </tr>\n",
       "</table>"
      ],
      "text/plain": [
       "[(10.02,)]"
      ]
     },
     "execution_count": 15,
     "metadata": {},
     "output_type": "execute_result"
    }
   ],
   "source": [
    "%%sql \n",
    "SELECT Round ((SUM(alcohol_involved))*1.0 / (count(case_id)) *100,2) AS 'Percentage of alcohol invoved'\n",
    "FrOM collisions\n"
   ]
  },
  {
   "cell_type": "markdown",
   "metadata": {},
   "source": [
    "10.02% of the overall collisions involved alcohol"
   ]
  },
  {
   "cell_type": "markdown",
   "metadata": {},
   "source": [
    "## 6. which day of the week had more collisions involving alcohol?"
   ]
  },
  {
   "cell_type": "code",
   "execution_count": 16,
   "metadata": {
    "execution": {
     "iopub.execute_input": "2023-03-05T21:01:15.363928Z",
     "iopub.status.busy": "2023-03-05T21:01:15.363536Z",
     "iopub.status.idle": "2023-03-05T21:01:30.377774Z",
     "shell.execute_reply": "2023-03-05T21:01:30.376230Z",
     "shell.execute_reply.started": "2023-03-05T21:01:15.363889Z"
    }
   },
   "outputs": [
    {
     "data": {
      "text/html": [
       "<table>\n",
       "    <tr>\n",
       "        <th>Day of the week</th>\n",
       "        <th>Total collisions involving alcohol</th>\n",
       "    </tr>\n",
       "    <tr>\n",
       "        <td>Saturday</td>\n",
       "        <td>207556</td>\n",
       "    </tr>\n",
       "    <tr>\n",
       "        <td>Sunday</td>\n",
       "        <td>203452</td>\n",
       "    </tr>\n",
       "    <tr>\n",
       "        <td>Friday</td>\n",
       "        <td>146441</td>\n",
       "    </tr>\n",
       "    <tr>\n",
       "        <td>Thursday</td>\n",
       "        <td>105232</td>\n",
       "    </tr>\n",
       "    <tr>\n",
       "        <td>Monday</td>\n",
       "        <td>99433</td>\n",
       "    </tr>\n",
       "    <tr>\n",
       "        <td>Wednesday</td>\n",
       "        <td>94321</td>\n",
       "    </tr>\n",
       "    <tr>\n",
       "        <td>Tuesday</td>\n",
       "        <td>88028</td>\n",
       "    </tr>\n",
       "</table>"
      ],
      "text/plain": [
       "[('Saturday', 207556),\n",
       " ('Sunday', 203452),\n",
       " ('Friday', 146441),\n",
       " ('Thursday', 105232),\n",
       " ('Monday', 99433),\n",
       " ('Wednesday', 94321),\n",
       " ('Tuesday', 88028)]"
      ]
     },
     "execution_count": 16,
     "metadata": {},
     "output_type": "execute_result"
    }
   ],
   "source": [
    "%%sql\n",
    "SELECT DAYNAME (CAST(collision_date AS DATE)) AS 'Day of the week',\n",
    "       COUNT(*) AS 'Total collisions involving alcohol'\n",
    "FROM collisions\n",
    "WHERE alcohol_involved=1\n",
    "GROUP BY DAYNAME (CAST(collision_date AS DATE))\n",
    "ORDER BY \"Total collisions involving alcohol\" DESC\n"
   ]
  },
  {
   "cell_type": "markdown",
   "metadata": {},
   "source": [
    "Saturday, sunday and friday have highest collisions involving alcohol compared to the remaining days. the sum total of the collisions that happened on these days(sunday,saturday and friday) is more than the total of collisions for the remaining days"
   ]
  },
  {
   "cell_type": "markdown",
   "metadata": {},
   "source": [
    "## 7. with respect to parties,which gender was more involved in collisions?"
   ]
  },
  {
   "cell_type": "code",
   "execution_count": 17,
   "metadata": {
    "execution": {
     "iopub.execute_input": "2023-03-05T21:01:30.379729Z",
     "iopub.status.busy": "2023-03-05T21:01:30.379373Z",
     "iopub.status.idle": "2023-03-05T21:01:49.288119Z",
     "shell.execute_reply": "2023-03-05T21:01:49.286886Z",
     "shell.execute_reply.started": "2023-03-05T21:01:30.379696Z"
    }
   },
   "outputs": [
    {
     "data": {
      "text/html": [
       "<table>\n",
       "    <tr>\n",
       "        <th>party_sex</th>\n",
       "        <th>percent</th>\n",
       "    </tr>\n",
       "    <tr>\n",
       "        <td>male</td>\n",
       "        <td>61.27</td>\n",
       "    </tr>\n",
       "    <tr>\n",
       "        <td>female</td>\n",
       "        <td>38.7</td>\n",
       "    </tr>\n",
       "    <tr>\n",
       "        <td>X</td>\n",
       "        <td>0.02</td>\n",
       "    </tr>\n",
       "</table>"
      ],
      "text/plain": [
       "[('male', 61.27), ('female', 38.7), ('X', 0.02)]"
      ]
     },
     "execution_count": 17,
     "metadata": {},
     "output_type": "execute_result"
    }
   ],
   "source": [
    "%%sql\n",
    "SELECT party_sex,\n",
    "       ROUND((100.0*COUNT())/(SELECT COUNT(party_sex) FROM parties),2) as 'percent'\n",
    "FROM parties\n",
    "WHERE party_sex IS NOT NULL\n",
    "GROUP BY party_sex\n",
    "ORDER BY 'percent'"
   ]
  },
  {
   "cell_type": "markdown",
   "metadata": {},
   "source": [
    "With respect to the parties directly involved in collisions, males make up about 61.27% of the total people involved while females and non binary make up 38.7% and 0.02% respectively"
   ]
  },
  {
   "cell_type": "markdown",
   "metadata": {},
   "source": [
    "## 8. Frequency of type of collision?"
   ]
  },
  {
   "cell_type": "code",
   "execution_count": 18,
   "metadata": {
    "execution": {
     "iopub.execute_input": "2023-03-05T21:01:49.291193Z",
     "iopub.status.busy": "2023-03-05T21:01:49.289905Z",
     "iopub.status.idle": "2023-03-05T21:02:07.726466Z",
     "shell.execute_reply": "2023-03-05T21:02:07.725205Z",
     "shell.execute_reply.started": "2023-03-05T21:01:49.291111Z"
    }
   },
   "outputs": [
    {
     "data": {
      "text/html": [
       "<table>\n",
       "    <tr>\n",
       "        <th>type of collision</th>\n",
       "        <th>percent</th>\n",
       "    </tr>\n",
       "    <tr>\n",
       "        <td>rear end</td>\n",
       "        <td>33.13%</td>\n",
       "    </tr>\n",
       "    <tr>\n",
       "        <td>broadside</td>\n",
       "        <td>19.67%</td>\n",
       "    </tr>\n",
       "    <tr>\n",
       "        <td>sideswipe</td>\n",
       "        <td>17.78%</td>\n",
       "    </tr>\n",
       "    <tr>\n",
       "        <td>hit object</td>\n",
       "        <td>16.17%</td>\n",
       "    </tr>\n",
       "    <tr>\n",
       "        <td>head-on</td>\n",
       "        <td>4.36%</td>\n",
       "    </tr>\n",
       "    <tr>\n",
       "        <td>other</td>\n",
       "        <td>2.72%</td>\n",
       "    </tr>\n",
       "    <tr>\n",
       "        <td>pedestrian</td>\n",
       "        <td>2.69%</td>\n",
       "    </tr>\n",
       "    <tr>\n",
       "        <td>overturned</td>\n",
       "        <td>2.67%</td>\n",
       "    </tr>\n",
       "</table>"
      ],
      "text/plain": [
       "[('rear end', '33.13%'),\n",
       " ('broadside', '19.67%'),\n",
       " ('sideswipe', '17.78%'),\n",
       " ('hit object', '16.17%'),\n",
       " ('head-on', '4.36%'),\n",
       " ('other', '2.72%'),\n",
       " ('pedestrian', '2.69%'),\n",
       " ('overturned', '2.67%')]"
      ]
     },
     "execution_count": 18,
     "metadata": {},
     "output_type": "execute_result"
    }
   ],
   "source": [
    "%%sql \n",
    "SELECT type_of_collision AS 'type of collision',\n",
    "       CONCAT(ROUND((100.0* COUNT(*))/(SELECT COUNT(*) FROM collisions),2),'%') AS 'percent'\n",
    "FROM collisions\n",
    "WHERE (type_of_collision IS NOT NULL) AND (type_of_collision NOT IN ('I','O','N')) \n",
    "GROUP BY type_of_collision\n",
    "ORDER BY (ROUND((100.0* COUNT(*))/(SELECT COUNT(*) FROM collisions),2)) DESC"
   ]
  },
  {
   "cell_type": "markdown",
   "metadata": {},
   "source": [
    "it can be observed that rear end collisions account for 33.13% of total collisions, head-on collision and pedestrian accounts for 4.36% and 2.69% respectively"
   ]
  },
  {
   "cell_type": "markdown",
   "metadata": {},
   "source": [
    "## 9. check collision and time"
   ]
  },
  {
   "cell_type": "code",
   "execution_count": 19,
   "metadata": {
    "execution": {
     "iopub.execute_input": "2023-03-05T21:02:07.728085Z",
     "iopub.status.busy": "2023-03-05T21:02:07.727741Z",
     "iopub.status.idle": "2023-03-05T21:02:22.709550Z",
     "shell.execute_reply": "2023-03-05T21:02:22.708366Z",
     "shell.execute_reply.started": "2023-03-05T21:02:07.728052Z"
    }
   },
   "outputs": [
    {
     "name": "stderr",
     "output_type": "stream",
     "text": [
      "C:\\Users\\Adekemi Adewoyin\\Documents\\mini\\envs\\py3k\\lib\\site-packages\\sql\\command.py:114: FutureWarning: Variable substitution with $var and {var} has been deprecated and will be removed in a future version. Use {{var}} instead.\n",
      "  warnings.warn(\n"
     ]
    },
    {
     "data": {
      "text/html": [
       "<table>\n",
       "    <tr>\n",
       "        <th>period</th>\n",
       "        <th>Number of collisions</th>\n",
       "    </tr>\n",
       "    <tr>\n",
       "        <td>Afternoon</td>\n",
       "        <td>3062048</td>\n",
       "    </tr>\n",
       "    <tr>\n",
       "        <td>Morning</td>\n",
       "        <td>2651144</td>\n",
       "    </tr>\n",
       "    <tr>\n",
       "        <td>Evening</td>\n",
       "        <td>2059586</td>\n",
       "    </tr>\n",
       "    <tr>\n",
       "        <td>Night</td>\n",
       "        <td>1651556</td>\n",
       "    </tr>\n",
       "</table>"
      ],
      "text/plain": [
       "[('Afternoon', 3062048),\n",
       " ('Morning', 2651144),\n",
       " ('Evening', 2059586),\n",
       " ('Night', 1651556)]"
      ]
     },
     "execution_count": 19,
     "metadata": {},
     "output_type": "execute_result"
    }
   ],
   "source": [
    "%%sql\n",
    "WITH time_period AS (SELECT (CASE \n",
    "        WHEN  CAST(collision_time AS TIME) BETWEEN '05:00:00' AND '12:00:00' THEN 'Morning'\n",
    "        WHEN  CAST(collision_time AS TIME) BETWEEN '12:00:01' AND '17:00:00' THEN 'Afternoon'\n",
    "        WHEN  CAST(collision_time AS TIME) BETWEEN '17:00:01' AND '21:00:00' THEN 'Evening'\n",
    "        ELSE 'Night' \n",
    "        END) AS period \n",
    "FROM collisions)\n",
    "\n",
    "SELECT period, count(*) AS 'Number of collisions'\n",
    "FROM time_period\n",
    "GROUP BY period\n",
    "ORDER BY count(*) DESC;\n",
    "\n",
    "\n",
    "\n",
    "       \n"
   ]
  },
  {
   "cell_type": "markdown",
   "metadata": {},
   "source": [
    "There are more collisions during the afternoon compared to other times of the day"
   ]
  },
  {
   "cell_type": "markdown",
   "metadata": {},
   "source": [
    "## 10. how many people died due to collisions"
   ]
  },
  {
   "cell_type": "code",
   "execution_count": 20,
   "metadata": {
    "execution": {
     "iopub.execute_input": "2023-03-05T21:02:22.711688Z",
     "iopub.status.busy": "2023-03-05T21:02:22.711106Z",
     "iopub.status.idle": "2023-03-05T21:02:36.879900Z",
     "shell.execute_reply": "2023-03-05T21:02:36.878521Z",
     "shell.execute_reply.started": "2023-03-05T21:02:22.711640Z"
    }
   },
   "outputs": [
    {
     "data": {
      "text/html": [
       "<table>\n",
       "    <tr>\n",
       "        <th>Killed victims</th>\n",
       "        <th>Injured victims</th>\n",
       "    </tr>\n",
       "    <tr>\n",
       "        <td>73007</td>\n",
       "        <td>5290670</td>\n",
       "    </tr>\n",
       "</table>"
      ],
      "text/plain": [
       "[(73007, 5290670)]"
      ]
     },
     "execution_count": 20,
     "metadata": {},
     "output_type": "execute_result"
    }
   ],
   "source": [
    "%%sql\n",
    "SELECT SUM(killed_victims) AS 'Killed victims',SUM(injured_victims) AS 'Injured victims'\n",
    "FROM collisions\n"
   ]
  },
  {
   "cell_type": "markdown",
   "metadata": {},
   "source": [
    "overall, 73007 died due to traffic collisions, while more than 5 million people sustained various forms of injury"
   ]
  },
  {
   "cell_type": "markdown",
   "metadata": {},
   "source": [
    "## 11. Effect of weather on traffic collisions"
   ]
  },
  {
   "cell_type": "code",
   "execution_count": 21,
   "metadata": {
    "execution": {
     "iopub.execute_input": "2023-03-05T21:02:36.882275Z",
     "iopub.status.busy": "2023-03-05T21:02:36.881893Z",
     "iopub.status.idle": "2023-03-05T21:02:52.376875Z",
     "shell.execute_reply": "2023-03-05T21:02:52.375542Z",
     "shell.execute_reply.started": "2023-03-05T21:02:36.882239Z"
    }
   },
   "outputs": [
    {
     "data": {
      "image/png": "[encoded data removed]",
      "text/plain": [
       "<Figure size 576x360 with 1 Axes>"
      ]
     },
     "metadata": {},
     "output_type": "display_data"
    }
   ],
   "source": [
    "weather= %sql SELECT weather_1 AS 'Weather condition',count(*) AS 'Number of collisions' \\\n",
    "              FROM collisions \\\n",
    "              GROUP BY weather_1 \\\n",
    "              ORDER BY count(*) DESC \\\n",
    "\n",
    "plt.figure(figsize=(8,5))\n",
    "weather.bar(color='red',edgecolor='0.1',linewidth=1.2)\n",
    "plt.ticklabel_format(style='plain', axis='y')\n",
    "plt.show()"
   ]
  },
  {
   "cell_type": "markdown",
   "metadata": {},
   "source": [
    "it can be seeen that more collsions occured with clear weather condition followed by cloudy and raining weather conditions. fewer collisions happened with respect to the other weather condition (such as fog,snowing ,wind etc.)"
   ]
  },
  {
   "cell_type": "markdown",
   "metadata": {},
   "source": [
    "## 12. Road surface and collision"
   ]
  },
  {
   "cell_type": "code",
   "execution_count": 22,
   "metadata": {
    "execution": {
     "iopub.execute_input": "2023-03-05T21:02:52.379380Z",
     "iopub.status.busy": "2023-03-05T21:02:52.378581Z",
     "iopub.status.idle": "2023-03-05T21:03:07.020796Z",
     "shell.execute_reply": "2023-03-05T21:03:07.019578Z",
     "shell.execute_reply.started": "2023-03-05T21:02:52.379327Z"
    }
   },
   "outputs": [
    {
     "data": {
      "text/html": [
       "<table>\n",
       "    <tr>\n",
       "        <th>road_surface</th>\n",
       "        <th>road_condition</th>\n",
       "        <th>Number of traffic collsions</th>\n",
       "    </tr>\n",
       "    <tr>\n",
       "        <td>group_total</td>\n",
       "        <td>group_total</td>\n",
       "        <td>9343065</td>\n",
       "    </tr>\n",
       "    <tr>\n",
       "        <td>dry</td>\n",
       "        <td>group_total</td>\n",
       "        <td>8515058</td>\n",
       "    </tr>\n",
       "    <tr>\n",
       "        <td>dry</td>\n",
       "        <td>normal</td>\n",
       "        <td>8232798</td>\n",
       "    </tr>\n",
       "    <tr>\n",
       "        <td>wet</td>\n",
       "        <td>group_total</td>\n",
       "        <td>775564</td>\n",
       "    </tr>\n",
       "    <tr>\n",
       "        <td>wet</td>\n",
       "        <td>normal</td>\n",
       "        <td>740605</td>\n",
       "    </tr>\n",
       "    <tr>\n",
       "        <td>dry</td>\n",
       "        <td>construction</td>\n",
       "        <td>142981</td>\n",
       "    </tr>\n",
       "    <tr>\n",
       "        <td>snowy</td>\n",
       "        <td>group_total</td>\n",
       "        <td>41707</td>\n",
       "    </tr>\n",
       "    <tr>\n",
       "        <td>dry</td>\n",
       "        <td>group_total</td>\n",
       "        <td>39974</td>\n",
       "    </tr>\n",
       "    <tr>\n",
       "        <td>snowy</td>\n",
       "        <td>normal</td>\n",
       "        <td>35269</td>\n",
       "    </tr>\n",
       "    <tr>\n",
       "        <td>dry</td>\n",
       "        <td>obstruction</td>\n",
       "        <td>32120</td>\n",
       "    </tr>\n",
       "    <tr>\n",
       "        <td>dry</td>\n",
       "        <td>other</td>\n",
       "        <td>23597</td>\n",
       "    </tr>\n",
       "    <tr>\n",
       "        <td>dry</td>\n",
       "        <td>holes</td>\n",
       "        <td>19886</td>\n",
       "    </tr>\n",
       "    <tr>\n",
       "        <td>dry</td>\n",
       "        <td>loose material</td>\n",
       "        <td>15208</td>\n",
       "    </tr>\n",
       "    <tr>\n",
       "        <td>slippery</td>\n",
       "        <td>group_total</td>\n",
       "        <td>10736</td>\n",
       "    </tr>\n",
       "    <tr>\n",
       "        <td>dry</td>\n",
       "        <td>reduced width</td>\n",
       "        <td>7922</td>\n",
       "    </tr>\n",
       "    <tr>\n",
       "        <td>wet</td>\n",
       "        <td>construction</td>\n",
       "        <td>7712</td>\n",
       "    </tr>\n",
       "    <tr>\n",
       "        <td>slippery</td>\n",
       "        <td>normal</td>\n",
       "        <td>6609</td>\n",
       "    </tr>\n",
       "    <tr>\n",
       "        <td>wet</td>\n",
       "        <td>flooded</td>\n",
       "        <td>6515</td>\n",
       "    </tr>\n",
       "    <tr>\n",
       "        <td>wet</td>\n",
       "        <td>other</td>\n",
       "        <td>6317</td>\n",
       "    </tr>\n",
       "    <tr>\n",
       "        <td>wet</td>\n",
       "        <td>group_total</td>\n",
       "        <td>6208</td>\n",
       "    </tr>\n",
       "    <tr>\n",
       "        <td>wet</td>\n",
       "        <td>obstruction</td>\n",
       "        <td>3208</td>\n",
       "    </tr>\n",
       "    <tr>\n",
       "        <td>snowy</td>\n",
       "        <td>other</td>\n",
       "        <td>3147</td>\n",
       "    </tr>\n",
       "    <tr>\n",
       "        <td>wet</td>\n",
       "        <td>loose material</td>\n",
       "        <td>2020</td>\n",
       "    </tr>\n",
       "    <tr>\n",
       "        <td>wet</td>\n",
       "        <td>holes</td>\n",
       "        <td>2007</td>\n",
       "    </tr>\n",
       "    <tr>\n",
       "        <td>slippery</td>\n",
       "        <td>other</td>\n",
       "        <td>1794</td>\n",
       "    </tr>\n",
       "    <tr>\n",
       "        <td>snowy</td>\n",
       "        <td>reduced width</td>\n",
       "        <td>1036</td>\n",
       "    </tr>\n",
       "    <tr>\n",
       "        <td>slippery</td>\n",
       "        <td>loose material</td>\n",
       "        <td>1030</td>\n",
       "    </tr>\n",
       "    <tr>\n",
       "        <td>wet</td>\n",
       "        <td>reduced width</td>\n",
       "        <td>972</td>\n",
       "    </tr>\n",
       "    <tr>\n",
       "        <td>snowy</td>\n",
       "        <td>holes</td>\n",
       "        <td>839</td>\n",
       "    </tr>\n",
       "    <tr>\n",
       "        <td>snowy</td>\n",
       "        <td>loose material</td>\n",
       "        <td>633</td>\n",
       "    </tr>\n",
       "    <tr>\n",
       "        <td>dry</td>\n",
       "        <td>flooded</td>\n",
       "        <td>572</td>\n",
       "    </tr>\n",
       "    <tr>\n",
       "        <td>slippery</td>\n",
       "        <td>construction</td>\n",
       "        <td>420</td>\n",
       "    </tr>\n",
       "    <tr>\n",
       "        <td>slippery</td>\n",
       "        <td>holes</td>\n",
       "        <td>372</td>\n",
       "    </tr>\n",
       "    <tr>\n",
       "        <td>snowy</td>\n",
       "        <td>group_total</td>\n",
       "        <td>270</td>\n",
       "    </tr>\n",
       "    <tr>\n",
       "        <td>snowy</td>\n",
       "        <td>obstruction</td>\n",
       "        <td>227</td>\n",
       "    </tr>\n",
       "    <tr>\n",
       "        <td>snowy</td>\n",
       "        <td>construction</td>\n",
       "        <td>189</td>\n",
       "    </tr>\n",
       "    <tr>\n",
       "        <td>slippery</td>\n",
       "        <td>obstruction</td>\n",
       "        <td>175</td>\n",
       "    </tr>\n",
       "    <tr>\n",
       "        <td>slippery</td>\n",
       "        <td>flooded</td>\n",
       "        <td>143</td>\n",
       "    </tr>\n",
       "    <tr>\n",
       "        <td>slippery</td>\n",
       "        <td>group_total</td>\n",
       "        <td>141</td>\n",
       "    </tr>\n",
       "    <tr>\n",
       "        <td>snowy</td>\n",
       "        <td>flooded</td>\n",
       "        <td>97</td>\n",
       "    </tr>\n",
       "    <tr>\n",
       "        <td>slippery</td>\n",
       "        <td>reduced width</td>\n",
       "        <td>52</td>\n",
       "    </tr>\n",
       "</table>"
      ],
      "text/plain": [
       "[('group_total', 'group_total', 9343065),\n",
       " ('dry', 'group_total', 8515058),\n",
       " ('dry', 'normal', 8232798),\n",
       " ('wet', 'group_total', 775564),\n",
       " ('wet', 'normal', 740605),\n",
       " ('dry', 'construction', 142981),\n",
       " ('snowy', 'group_total', 41707),\n",
       " ('dry', 'group_total', 39974),\n",
       " ('snowy', 'normal', 35269),\n",
       " ('dry', 'obstruction', 32120),\n",
       " ('dry', 'other', 23597),\n",
       " ('dry', 'holes', 19886),\n",
       " ('dry', 'loose material', 15208),\n",
       " ('slippery', 'group_total', 10736),\n",
       " ('dry', 'reduced width', 7922),\n",
       " ('wet', 'construction', 7712),\n",
       " ('slippery', 'normal', 6609),\n",
       " ('wet', 'flooded', 6515),\n",
       " ('wet', 'other', 6317),\n",
       " ('wet', 'group_total', 6208),\n",
       " ('wet', 'obstruction', 3208),\n",
       " ('snowy', 'other', 3147),\n",
       " ('wet', 'loose material', 2020),\n",
       " ('wet', 'holes', 2007),\n",
       " ('slippery', 'other', 1794),\n",
       " ('snowy', 'reduced width', 1036),\n",
       " ('slippery', 'loose material', 1030),\n",
       " ('wet', 'reduced width', 972),\n",
       " ('snowy', 'holes', 839),\n",
       " ('snowy', 'loose material', 633),\n",
       " ('dry', 'flooded', 572),\n",
       " ('slippery', 'construction', 420),\n",
       " ('slippery', 'holes', 372),\n",
       " ('snowy', 'group_total', 270),\n",
       " ('snowy', 'obstruction', 227),\n",
       " ('snowy', 'construction', 189),\n",
       " ('slippery', 'obstruction', 175),\n",
       " ('slippery', 'flooded', 143),\n",
       " ('slippery', 'group_total', 141),\n",
       " ('snowy', 'flooded', 97),\n",
       " ('slippery', 'reduced width', 52)]"
      ]
     },
     "execution_count": 22,
     "metadata": {},
     "output_type": "execute_result"
    }
   ],
   "source": [
    "%%sql SELECT COALESCE(road_surface,'group_total') AS 'road_surface',\n",
    "        COALESCE(road_condition_1,'group_total') AS 'road_condition',\n",
    "        count(*) AS 'Number of traffic collsions'\n",
    "FROM collisions\n",
    "WHERE (road_surface IN ('dry','wet','slippery','snowy'))\n",
    "GROUP BY \n",
    "  ROLLUP (road_surface,road_condition_1)\n",
    "ORDER BY count(*) DESC"
   ]
  },
  {
   "cell_type": "markdown",
   "metadata": {},
   "source": [
    "Most traffic collisions happened when the road surface was dry and the road condition was normal. only around 10 thousand collsions happened when the road was slippery. it can be deduced that there are more important factors that contributed to collisions than road surface, or condition"
   ]
  },
  {
   "cell_type": "markdown",
   "metadata": {},
   "source": [
    "## 13. How many were hit and run cases?"
   ]
  },
  {
   "cell_type": "code",
   "execution_count": 23,
   "metadata": {
    "execution": {
     "iopub.execute_input": "2023-03-05T21:03:07.022612Z",
     "iopub.status.busy": "2023-03-05T21:03:07.022262Z",
     "iopub.status.idle": "2023-03-05T21:03:23.909529Z",
     "shell.execute_reply": "2023-03-05T21:03:23.908281Z",
     "shell.execute_reply.started": "2023-03-05T21:03:07.022580Z"
    }
   },
   "outputs": [
    {
     "data": {
      "text/html": [
       "<table>\n",
       "    <tr>\n",
       "        <th>hit_and_run</th>\n",
       "        <th>Percent</th>\n",
       "    </tr>\n",
       "    <tr>\n",
       "        <td>not hit and run</td>\n",
       "        <td>80.49</td>\n",
       "    </tr>\n",
       "    <tr>\n",
       "        <td>misdemeanor</td>\n",
       "        <td>16.67</td>\n",
       "    </tr>\n",
       "    <tr>\n",
       "        <td>felony</td>\n",
       "        <td>2.84</td>\n",
       "    </tr>\n",
       "</table>"
      ],
      "text/plain": [
       "[('not hit and run', 80.49), ('misdemeanor', 16.67), ('felony', 2.84)]"
      ]
     },
     "execution_count": 23,
     "metadata": {},
     "output_type": "execute_result"
    }
   ],
   "source": [
    "%%sql\n",
    "SELECT hit_and_run,\n",
    "       ROUND((count(*)*1.0)/(SELECT count(*)FROM collisions \n",
    "                        WHERE hit_and_run IN ('felony','misdemeanor','not hit and run'))*100,2) AS 'Percent'\n",
    "FROM collisions\n",
    "WHERE hit_and_run IN ('felony','misdemeanor','not hit and run')\n",
    "GROUP BY hit_and_run\n",
    "ORDER BY Percent DESC\n"
   ]
  },
  {
   "cell_type": "markdown",
   "metadata": {},
   "source": [
    "it can be seen that most of the cases where not hit and run and only about 2.84% constitute felony"
   ]
  },
  {
   "cell_type": "markdown",
   "metadata": {},
   "source": [
    "## 14. what pcf violation category is most frequent?"
   ]
  },
  {
   "cell_type": "code",
   "execution_count": 24,
   "metadata": {
    "execution": {
     "iopub.execute_input": "2023-03-05T21:03:23.911368Z",
     "iopub.status.busy": "2023-03-05T21:03:23.910970Z",
     "iopub.status.idle": "2023-03-05T21:03:38.359839Z",
     "shell.execute_reply": "2023-03-05T21:03:38.358799Z",
     "shell.execute_reply.started": "2023-03-05T21:03:23.911333Z"
    }
   },
   "outputs": [
    {
     "data": {
      "text/html": [
       "<table>\n",
       "    <tr>\n",
       "        <th>pcf_violation_category</th>\n",
       "        <th>Number of collsions</th>\n",
       "    </tr>\n",
       "    <tr>\n",
       "        <td>speeding</td>\n",
       "        <td>2911725</td>\n",
       "    </tr>\n",
       "    <tr>\n",
       "        <td>improper turning</td>\n",
       "        <td>1627618</td>\n",
       "    </tr>\n",
       "    <tr>\n",
       "        <td>automobile right of way</td>\n",
       "        <td>1111967</td>\n",
       "    </tr>\n",
       "    <tr>\n",
       "        <td>dui</td>\n",
       "        <td>695636</td>\n",
       "    </tr>\n",
       "    <tr>\n",
       "        <td>unsafe lane change</td>\n",
       "        <td>653108</td>\n",
       "    </tr>\n",
       "    <tr>\n",
       "        <td>traffic signals and signs</td>\n",
       "        <td>514782</td>\n",
       "    </tr>\n",
       "    <tr>\n",
       "        <td>unsafe starting or backing</td>\n",
       "        <td>352417</td>\n",
       "    </tr>\n",
       "    <tr>\n",
       "        <td>unknown</td>\n",
       "        <td>293802</td>\n",
       "    </tr>\n",
       "    <tr>\n",
       "        <td>wrong side of road</td>\n",
       "        <td>219298</td>\n",
       "    </tr>\n",
       "    <tr>\n",
       "        <td>other than driver (or pedestrian)</td>\n",
       "        <td>203446</td>\n",
       "    </tr>\n",
       "</table>"
      ],
      "text/plain": [
       "[('speeding', 2911725),\n",
       " ('improper turning', 1627618),\n",
       " ('automobile right of way', 1111967),\n",
       " ('dui', 695636),\n",
       " ('unsafe lane change', 653108),\n",
       " ('traffic signals and signs', 514782),\n",
       " ('unsafe starting or backing', 352417),\n",
       " ('unknown', 293802),\n",
       " ('wrong side of road', 219298),\n",
       " ('other than driver (or pedestrian)', 203446)]"
      ]
     },
     "execution_count": 24,
     "metadata": {},
     "output_type": "execute_result"
    }
   ],
   "source": [
    "%%sql --Top 10 pcf violation category\n",
    "SELECT pcf_violation_category,count(*) AS 'Number of collsions'\n",
    "FROM collisions\n",
    "WHERE (pcf_violation_category NOT IN ('21804','22350')) AND (pcf_violation_category IS NOT NULL)\n",
    "GROUP BY pcf_violation_category\n",
    "ORDER BY count(*) DESC\n",
    "LIMIT 10;"
   ]
  },
  {
   "cell_type": "markdown",
   "metadata": {},
   "source": [
    "the number one pcf violation category is speeding. speed reduction measures such as speed humps,rumble strips should be adopted to limit speeding."
   ]
  },
  {
   "cell_type": "markdown",
   "metadata": {},
   "source": [
    "## 15. traffic collisions with respect to lighting?"
   ]
  },
  {
   "cell_type": "code",
   "execution_count": 25,
   "metadata": {
    "execution": {
     "iopub.execute_input": "2023-03-05T21:03:38.361699Z",
     "iopub.status.busy": "2023-03-05T21:03:38.361037Z",
     "iopub.status.idle": "2023-03-05T21:03:52.599261Z",
     "shell.execute_reply": "2023-03-05T21:03:52.597690Z",
     "shell.execute_reply.started": "2023-03-05T21:03:38.361664Z"
    }
   },
   "outputs": [
    {
     "data": {
      "text/html": [
       "<table>\n",
       "    <tr>\n",
       "        <th>lighting</th>\n",
       "        <th>Number of collisions</th>\n",
       "    </tr>\n",
       "    <tr>\n",
       "        <td>daylight</td>\n",
       "        <td>6279705</td>\n",
       "    </tr>\n",
       "    <tr>\n",
       "        <td>dark with street lights</td>\n",
       "        <td>1981315</td>\n",
       "    </tr>\n",
       "    <tr>\n",
       "        <td>dark with no street lights</td>\n",
       "        <td>762813</td>\n",
       "    </tr>\n",
       "    <tr>\n",
       "        <td>dusk or dawn</td>\n",
       "        <td>329345</td>\n",
       "    </tr>\n",
       "    <tr>\n",
       "        <td>dark with street lights not functioning</td>\n",
       "        <td>17847</td>\n",
       "    </tr>\n",
       "</table>"
      ],
      "text/plain": [
       "[('daylight', 6279705),\n",
       " ('dark with street lights', 1981315),\n",
       " ('dark with no street lights', 762813),\n",
       " ('dusk or dawn', 329345),\n",
       " ('dark with street lights not functioning', 17847)]"
      ]
     },
     "execution_count": 25,
     "metadata": {},
     "output_type": "execute_result"
    }
   ],
   "source": [
    "%%sql \n",
    "SELECT lighting,count(*) As 'Number of collisions'\n",
    "FROM collisions\n",
    "WHERE (lighting IS NOT NULL) AND (lighting <> 'G')\n",
    "GROUP BY lighting\n",
    "ORDER BY count(*) DESC"
   ]
  },
  {
   "cell_type": "markdown",
   "metadata": {},
   "source": [
    "more than 60% of the entire collisions happened during daylight, this supports the previous analysis that showed that most collsions happening during the afternoon."
   ]
  },
  {
   "cell_type": "markdown",
   "metadata": {},
   "source": [
    "## 16. which day of the weeek has more collisions?"
   ]
  },
  {
   "cell_type": "code",
   "execution_count": 26,
   "metadata": {
    "execution": {
     "iopub.execute_input": "2023-03-05T21:03:52.601316Z",
     "iopub.status.busy": "2023-03-05T21:03:52.600831Z",
     "iopub.status.idle": "2023-03-05T21:04:09.081386Z",
     "shell.execute_reply": "2023-03-05T21:04:09.079989Z",
     "shell.execute_reply.started": "2023-03-05T21:03:52.601267Z"
    }
   },
   "outputs": [
    {
     "data": {
      "text/html": [
       "<table>\n",
       "    <tr>\n",
       "        <th>Day of the week</th>\n",
       "        <th>percent of total collisions</th>\n",
       "    </tr>\n",
       "    <tr>\n",
       "        <td>Friday</td>\n",
       "        <td>16.51</td>\n",
       "    </tr>\n",
       "    <tr>\n",
       "        <td>Thursday</td>\n",
       "        <td>14.77</td>\n",
       "    </tr>\n",
       "    <tr>\n",
       "        <td>Wednesday</td>\n",
       "        <td>14.67</td>\n",
       "    </tr>\n",
       "    <tr>\n",
       "        <td>Tuesday</td>\n",
       "        <td>14.6</td>\n",
       "    </tr>\n",
       "    <tr>\n",
       "        <td>Monday</td>\n",
       "        <td>14.01</td>\n",
       "    </tr>\n",
       "    <tr>\n",
       "        <td>Saturday</td>\n",
       "        <td>13.75</td>\n",
       "    </tr>\n",
       "    <tr>\n",
       "        <td>Sunday</td>\n",
       "        <td>11.7</td>\n",
       "    </tr>\n",
       "</table>"
      ],
      "text/plain": [
       "[('Friday', 16.51),\n",
       " ('Thursday', 14.77),\n",
       " ('Wednesday', 14.67),\n",
       " ('Tuesday', 14.6),\n",
       " ('Monday', 14.01),\n",
       " ('Saturday', 13.75),\n",
       " ('Sunday', 11.7)]"
      ]
     },
     "execution_count": 26,
     "metadata": {},
     "output_type": "execute_result"
    }
   ],
   "source": [
    "%%sql --get percentage of each day collision\n",
    "\n",
    "SELECT DAYNAME (CAST(collision_date AS DATE)) AS 'Day of the week',\n",
    "       ROUND((count(*)*100.0)/(SELECT count(*) FROM collisions),2) AS 'percent of total collisions'\n",
    "FROM collisions\n",
    "GROUP BY DAYNAME (CAST(collision_date AS DATE))\n",
    "ORDER BY \"percent of total collisions\" DESC"
   ]
  },
  {
   "cell_type": "markdown",
   "metadata": {},
   "source": [
    "About 16.51% of the overall traffic collisions happened on Friday,followed by thursdays with 14.77% while sunday has the lowest collision and accounts for about 11.7% of overall traffic collisions"
   ]
  },
  {
   "cell_type": "markdown",
   "metadata": {},
   "source": [
    "## 17. What race is most involved in collisions?"
   ]
  },
  {
   "cell_type": "code",
   "execution_count": 27,
   "metadata": {
    "execution": {
     "iopub.execute_input": "2023-03-05T21:04:09.083578Z",
     "iopub.status.busy": "2023-03-05T21:04:09.082685Z",
     "iopub.status.idle": "2023-03-05T21:04:25.674663Z",
     "shell.execute_reply": "2023-03-05T21:04:25.673506Z",
     "shell.execute_reply.started": "2023-03-05T21:04:09.083541Z"
    }
   },
   "outputs": [
    {
     "data": {
      "text/html": [
       "<table>\n",
       "    <tr>\n",
       "        <th>party_race</th>\n",
       "        <th>Number of collisions</th>\n",
       "    </tr>\n",
       "    <tr>\n",
       "        <td>white</td>\n",
       "        <td>5932763</td>\n",
       "    </tr>\n",
       "    <tr>\n",
       "        <td>hispanic</td>\n",
       "        <td>5013959</td>\n",
       "    </tr>\n",
       "    <tr>\n",
       "        <td>black</td>\n",
       "        <td>1267606</td>\n",
       "    </tr>\n",
       "    <tr>\n",
       "        <td>asian</td>\n",
       "        <td>1139060</td>\n",
       "    </tr>\n",
       "    <tr>\n",
       "        <td>other</td>\n",
       "        <td>941649</td>\n",
       "    </tr>\n",
       "</table>"
      ],
      "text/plain": [
       "[('white', 5932763),\n",
       " ('hispanic', 5013959),\n",
       " ('black', 1267606),\n",
       " ('asian', 1139060),\n",
       " ('other', 941649)]"
      ]
     },
     "execution_count": 27,
     "metadata": {},
     "output_type": "execute_result"
    }
   ],
   "source": [
    "%%sql\n",
    "SELECT party_race,count(*) As 'Number of collisions'\n",
    "FROM parties\n",
    "WHERE (party_race IS NOT NULL) \n",
    "GROUP BY party_race\n",
    "ORDER BY count(*) DESC"
   ]
  },
  {
   "cell_type": "markdown",
   "metadata": {},
   "source": [
    "whites make up the larger proportion of parties involved in traffic collisions"
   ]
  },
  {
   "cell_type": "markdown",
   "metadata": {},
   "source": [
    "## 18. Ranking the 7 most frequent vehicle make involved in traffic collisions ?\t"
   ]
  },
  {
   "cell_type": "code",
   "execution_count": 28,
   "metadata": {
    "execution": {
     "iopub.execute_input": "2023-03-05T21:04:25.676607Z",
     "iopub.status.busy": "2023-03-05T21:04:25.676203Z",
     "iopub.status.idle": "2023-03-05T21:04:52.268587Z",
     "shell.execute_reply": "2023-03-05T21:04:52.266665Z",
     "shell.execute_reply.started": "2023-03-05T21:04:25.676561Z"
    }
   },
   "outputs": [
    {
     "data": {
      "text/html": [
       "<table>\n",
       "    <tr>\n",
       "        <th>vehicle_make</th>\n",
       "        <th>Number of collisions</th>\n",
       "        <th>Rank</th>\n",
       "    </tr>\n",
       "    <tr>\n",
       "        <td>toyota</td>\n",
       "        <td>2736693</td>\n",
       "        <td>1</td>\n",
       "    </tr>\n",
       "    <tr>\n",
       "        <td>ford</td>\n",
       "        <td>2407493</td>\n",
       "        <td>2</td>\n",
       "    </tr>\n",
       "    <tr>\n",
       "        <td>honda</td>\n",
       "        <td>1992090</td>\n",
       "        <td>3</td>\n",
       "    </tr>\n",
       "    <tr>\n",
       "        <td>chevrolet</td>\n",
       "        <td>1728584</td>\n",
       "        <td>4</td>\n",
       "    </tr>\n",
       "    <tr>\n",
       "        <td>nissan</td>\n",
       "        <td>1103702</td>\n",
       "        <td>5</td>\n",
       "    </tr>\n",
       "    <tr>\n",
       "        <td>dodge</td>\n",
       "        <td>755748</td>\n",
       "        <td>6</td>\n",
       "    </tr>\n",
       "    <tr>\n",
       "        <td>gmc</td>\n",
       "        <td>369280</td>\n",
       "        <td>7</td>\n",
       "    </tr>\n",
       "</table>"
      ],
      "text/plain": [
       "[('toyota', 2736693, 1),\n",
       " ('ford', 2407493, 2),\n",
       " ('honda', 1992090, 3),\n",
       " ('chevrolet', 1728584, 4),\n",
       " ('nissan', 1103702, 5),\n",
       " ('dodge', 755748, 6),\n",
       " ('gmc', 369280, 7)]"
      ]
     },
     "execution_count": 28,
     "metadata": {},
     "output_type": "execute_result"
    }
   ],
   "source": [
    "%%sql\n",
    "WITH vehicle_collisions AS (SELECT DISTINCT vehicle_make,\n",
    "       COUNT(*) OVER (PARTITION BY vehicle_make) AS 'Number of collisions',\n",
    "FROM parties\n",
    "WHERE (vehicle_make IS NOT NULL))\n",
    "\n",
    "SELECT *,RANK() OVER(ORDER BY \"Number of collisions\" DESC) AS 'Rank'\n",
    "FROM vehicle_collisions\n",
    "LIMIT 7;"
   ]
  },
  {
   "cell_type": "markdown",
   "metadata": {},
   "source": [
    "Toyoto is the vehicle make with most traffic collisions,followed by ford and the rest"
   ]
  },
  {
   "cell_type": "markdown",
   "metadata": {},
   "source": [
    "## 19. how many collisions involved school buses?"
   ]
  },
  {
   "cell_type": "code",
   "execution_count": 29,
   "metadata": {
    "execution": {
     "iopub.execute_input": "2023-03-05T21:04:52.273058Z",
     "iopub.status.busy": "2023-03-05T21:04:52.271643Z",
     "iopub.status.idle": "2023-03-05T21:05:22.978559Z",
     "shell.execute_reply": "2023-03-05T21:05:22.977381Z",
     "shell.execute_reply.started": "2023-03-05T21:04:52.273002Z"
    }
   },
   "outputs": [
    {
     "data": {
      "text/html": [
       "<table>\n",
       "    <tr>\n",
       "        <th>School bus related</th>\n",
       "        <th>Number of collisions</th>\n",
       "        <th>percent</th>\n",
       "    </tr>\n",
       "    <tr>\n",
       "        <td>1</td>\n",
       "        <td>52448</td>\n",
       "        <td>0.56%</td>\n",
       "    </tr>\n",
       "</table>"
      ],
      "text/plain": [
       "[(1, 52448, '0.56%')]"
      ]
     },
     "execution_count": 29,
     "metadata": {},
     "output_type": "execute_result"
    }
   ],
   "source": [
    "%%sql  -- collisions involving school bus, null represents non-bus related\n",
    "SELECT school_bus_related AS 'School bus related',\n",
    "       COUNT(*) AS 'Number of collisions',\n",
    "       CONCAT(ROUND((100.0* COUNT(*))/(SELECT COUNT(*) FROM collisions),2),'%') AS 'percent'\n",
    "FROM parties\n",
    "WHERE (school_bus_related IS NOT NULL) \n",
    "GROUP BY school_bus_related\n"
   ]
  },
  {
   "cell_type": "markdown",
   "metadata": {},
   "source": [
    "About 52448 collisions involved school buses, and this accounts for about 0.56% of total collisions"
   ]
  },
  {
   "cell_type": "markdown",
   "metadata": {},
   "source": [
    "## 20. what injury was most frequent among victims ?"
   ]
  },
  {
   "cell_type": "code",
   "execution_count": 30,
   "metadata": {
    "execution": {
     "iopub.execute_input": "2023-03-05T21:05:22.980208Z",
     "iopub.status.busy": "2023-03-05T21:05:22.979858Z",
     "iopub.status.idle": "2023-03-05T21:05:41.130331Z",
     "shell.execute_reply": "2023-03-05T21:05:41.129057Z",
     "shell.execute_reply.started": "2023-03-05T21:05:22.980169Z"
    }
   },
   "outputs": [
    {
     "data": {
      "text/html": [
       "<table>\n",
       "    <tr>\n",
       "        <th>victim&#x27;s degree of injury</th>\n",
       "        <th>percent</th>\n",
       "    </tr>\n",
       "    <tr>\n",
       "        <td>no injury</td>\n",
       "        <td>45.37%</td>\n",
       "    </tr>\n",
       "    <tr>\n",
       "        <td>complaint of pain</td>\n",
       "        <td>35.48%</td>\n",
       "    </tr>\n",
       "    <tr>\n",
       "        <td>other visible injury</td>\n",
       "        <td>13.55%</td>\n",
       "    </tr>\n",
       "    <tr>\n",
       "        <td>possible injury</td>\n",
       "        <td>2.85%</td>\n",
       "    </tr>\n",
       "    <tr>\n",
       "        <td>severe injury</td>\n",
       "        <td>2.37%</td>\n",
       "    </tr>\n",
       "    <tr>\n",
       "        <td>suspected minor injury</td>\n",
       "        <td>1.49%</td>\n",
       "    </tr>\n",
       "    <tr>\n",
       "        <td>killed</td>\n",
       "        <td>0.77%</td>\n",
       "    </tr>\n",
       "    <tr>\n",
       "        <td>suspected serious injury</td>\n",
       "        <td>0.4%</td>\n",
       "    </tr>\n",
       "</table>"
      ],
      "text/plain": [
       "[('no injury', '45.37%'),\n",
       " ('complaint of pain', '35.48%'),\n",
       " ('other visible injury', '13.55%'),\n",
       " ('possible injury', '2.85%'),\n",
       " ('severe injury', '2.37%'),\n",
       " ('suspected minor injury', '1.49%'),\n",
       " ('killed', '0.77%'),\n",
       " ('suspected serious injury', '0.4%')]"
      ]
     },
     "execution_count": 30,
     "metadata": {},
     "output_type": "execute_result"
    }
   ],
   "source": [
    "%%sql\n",
    "SELECT victim_degree_of_injury AS \"victim's degree of injury\",\n",
    "       CONCAT(ROUND((100.0* COUNT(*))/(SELECT COUNT(*) FROM collisions),2),'%') AS 'percent'\n",
    "FROM victims\n",
    "WHERE (victim_degree_of_injury IS NOT NULL) \n",
    "GROUP BY victim_degree_of_injury\n",
    "ORDER BY COUNT(*) DESC"
   ]
  },
  {
   "cell_type": "markdown",
   "metadata": {},
   "source": [
    "About 45.37% of the victims sustained no injury, 35.48% complained of pain as shown above. only 0.77% died, while 0.4% were suspected of serious injury"
   ]
  },
  {
   "cell_type": "markdown",
   "metadata": {},
   "source": [
    "## 21. ages of the victims?"
   ]
  },
  {
   "cell_type": "code",
   "execution_count": 31,
   "metadata": {
    "execution": {
     "iopub.execute_input": "2023-03-05T21:05:41.132472Z",
     "iopub.status.busy": "2023-03-05T21:05:41.132106Z",
     "iopub.status.idle": "2023-03-05T21:05:46.843771Z",
     "shell.execute_reply": "2023-03-05T21:05:46.842443Z",
     "shell.execute_reply.started": "2023-03-05T21:05:41.132438Z"
    }
   },
   "outputs": [
    {
     "data": {
      "text/html": [
       "<table>\n",
       "    <tr>\n",
       "        <th>column_name</th>\n",
       "        <th>column_type</th>\n",
       "        <th>min</th>\n",
       "        <th>max</th>\n",
       "        <th>approx_unique</th>\n",
       "        <th>avg</th>\n",
       "        <th>std</th>\n",
       "        <th>q25</th>\n",
       "        <th>q50</th>\n",
       "        <th>q75</th>\n",
       "        <th>count</th>\n",
       "        <th>null_percentage</th>\n",
       "    </tr>\n",
       "    <tr>\n",
       "        <td>victim_age</td>\n",
       "        <td>BIGINT</td>\n",
       "        <td>0</td>\n",
       "        <td>999</td>\n",
       "        <td>126</td>\n",
       "        <td>31.114293979121094</td>\n",
       "        <td>19.811196452633556</td>\n",
       "        <td>17</td>\n",
       "        <td>27</td>\n",
       "        <td>44</td>\n",
       "        <td>9639334</td>\n",
       "        <td>3.35%</td>\n",
       "    </tr>\n",
       "</table>"
      ],
      "text/plain": [
       "[('victim_age', 'BIGINT', '0', '999', '126', '31.114293979121094', '19.811196452633556', '17', '27', '44', 9639334, '3.35%')]"
      ]
     },
     "execution_count": 31,
     "metadata": {},
     "output_type": "execute_result"
    }
   ],
   "source": [
    "%%sql ---summary stats of victim_age \n",
    "SUMMARIZE SELECT victim_age FROM victims;"
   ]
  },
  {
   "cell_type": "markdown",
   "metadata": {},
   "source": [
    "From the summary stat(s) of the victim_age column, it can be seen that the median age is 27 years and 75% of the people involved are less than or equal to 44 years. the max age of 999 represents Fatal Fetus, while those with 0 years can be assumed as babies not up to 1 years old. and hence all this values will be kept, with the 999 changed to 0 also. The null values in the column is about 3.35% of the total overall values."
   ]
  },
  {
   "cell_type": "code",
   "execution_count": 32,
   "metadata": {
    "execution": {
     "iopub.execute_input": "2023-03-05T21:05:46.846289Z",
     "iopub.status.busy": "2023-03-05T21:05:46.845790Z",
     "iopub.status.idle": "2023-03-05T21:05:47.944533Z",
     "shell.execute_reply": "2023-03-05T21:05:47.943210Z",
     "shell.execute_reply.started": "2023-03-05T21:05:46.846238Z"
    }
   },
   "outputs": [
    {
     "data": {
      "text/html": [
       "<table>\n",
       "    <tr>\n",
       "        <th>Count</th>\n",
       "    </tr>\n",
       "</table>"
      ],
      "text/plain": [
       "[]"
      ]
     },
     "execution_count": 32,
     "metadata": {},
     "output_type": "execute_result"
    }
   ],
   "source": [
    "%%sql --create view to store query\n",
    "CREATE VIEW victim_view AS (SELECT (CASE \n",
    "       WHEN victim_age =999 THEN 0\n",
    "       ELSE victim_age\n",
    "       END )AS victim_age_cor\n",
    "FROM victims\n",
    "WHERE victim_age IS NOT NULL)\n"
   ]
  },
  {
   "cell_type": "code",
   "execution_count": 33,
   "metadata": {
    "execution": {
     "iopub.execute_input": "2023-03-05T21:05:47.946297Z",
     "iopub.status.busy": "2023-03-05T21:05:47.945916Z",
     "iopub.status.idle": "2023-03-05T21:06:26.060502Z",
     "shell.execute_reply": "2023-03-05T21:06:26.059196Z",
     "shell.execute_reply.started": "2023-03-05T21:05:47.946259Z"
    }
   },
   "outputs": [
    {
     "data": {
      "image/png": "[encoded data removed]",
      "text/plain": [
       "<Figure size 432x288 with 1 Axes>"
      ]
     },
     "metadata": {},
     "output_type": "display_data"
    }
   ],
   "source": [
    "plot = %sql SELECT victim_age_cor FROM victim_view \n",
    "plot= plot.DataFrame()\n",
    "plot.hist(color='red',grid=False,bins=range(0,135,10),edgecolor='0.1',linewidth=1.2)\n",
    "plt.ticklabel_format(style='plain', axis='y')\n",
    "plt.title(\"histogram of victim's age\")\n",
    "plt.show()"
   ]
  },
  {
   "cell_type": "markdown",
   "metadata": {},
   "source": [
    "individuals with ages 10-20, and 20-30 have more frequency than other group."
   ]
  },
  {
   "cell_type": "markdown",
   "metadata": {},
   "source": [
    "**There is so much to discover from analysing this database. i have attempted to answer just some few questions in this notebook but further analysis can always be carried out to discover more interesting information.**"
   ]
  }
 ],
 "metadata": {
  "kernelspec": {
   "display_name": "Python 3 (ipykernel)",
   "language": "python",
   "name": "python3"
  },
  "language_info": {
   "codemirror_mode": {
    "name": "ipython",
    "version": 3
   },
   "file_extension": ".py",
   "mimetype": "text/x-python",
   "name": "python",
   "nbconvert_exporter": "python",
   "pygments_lexer": "ipython3",
   "version": "3.9.16"
  }
 },
 "nbformat": 4,
 "nbformat_minor": 4
}
